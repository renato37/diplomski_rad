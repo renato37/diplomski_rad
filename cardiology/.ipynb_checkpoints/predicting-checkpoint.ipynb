{
 "cells": [
  {
   "cell_type": "code",
   "execution_count": 1,
   "metadata": {},
   "outputs": [
    {
     "name": "stderr",
     "output_type": "stream",
     "text": [
      "2023-04-26 08:20:42.432605: I tensorflow/tsl/cuda/cudart_stub.cc:28] Could not find cuda drivers on your machine, GPU will not be used.\n",
      "2023-04-26 08:20:42.465304: I tensorflow/tsl/cuda/cudart_stub.cc:28] Could not find cuda drivers on your machine, GPU will not be used.\n",
      "2023-04-26 08:20:42.466673: I tensorflow/core/platform/cpu_feature_guard.cc:182] This TensorFlow binary is optimized to use available CPU instructions in performance-critical operations.\n",
      "To enable the following instructions: AVX2 FMA, in other operations, rebuild TensorFlow with the appropriate compiler flags.\n",
      "2023-04-26 08:20:44.632448: W tensorflow/compiler/tf2tensorrt/utils/py_utils.cc:38] TF-TRT Warning: Could not find TensorRT\n"
     ]
    }
   ],
   "source": [
    "import tensorflow_decision_forests as tfdf\n",
    "\n",
    "import tensorflow as tf\n",
    "\n",
    "import os\n",
    "import numpy as np\n",
    "import pandas as pd\n",
    "import tensorflow as tf\n",
    "import math\n",
    "\n",
    "import dtreeviz\n",
    "\n",
    "from matplotlib import pyplot as plt\n",
    "from IPython import display"
   ]
  },
  {
   "cell_type": "code",
   "execution_count": 2,
   "metadata": {},
   "outputs": [
    {
     "name": "stderr",
     "output_type": "stream",
     "text": [
      "/tmp/ipykernel_1458/745931794.py:5: DeprecationWarning: `set_matplotlib_formats` is deprecated since IPython 7.23, directly use `matplotlib_inline.backend_inline.set_matplotlib_formats()`\n"
     ]
    }
   ],
   "source": [
    "# avoid \"Arial font not found warnings\"\n",
    "import logging\n",
    "logging.getLogger('matplotlib.font_manager').setLevel(level=logging.CRITICAL)\n",
    "\n",
    "display.set_matplotlib_formats('retina') # generate hires plots\n",
    "\n",
    "np.random.seed(1234)  # reproducible plots/data for explanatory reasons"
   ]
  },
  {
   "cell_type": "code",
   "execution_count": 3,
   "metadata": {},
   "outputs": [],
   "source": [
    "# Split the dataset into a training and a testing dataset.\n",
    "\n",
    "def split_dataset(dataset, test_ratio=0.30):\n",
    "  \"\"\"Splits a panda dataframe in two.\"\"\"\n",
    "  test_indices = np.random.rand(len(dataset)) < test_ratio\n",
    "  return dataset[~test_indices], dataset[test_indices]\n",
    "\n"
   ]
  },
  {
   "cell_type": "code",
   "execution_count": 4,
   "metadata": {},
   "outputs": [],
   "source": [
    "df = pd.read_csv('heart.csv', sep=\",\")"
   ]
  },
  {
   "cell_type": "code",
   "execution_count": 5,
   "metadata": {},
   "outputs": [
    {
     "name": "stdout",
     "output_type": "stream",
     "text": [
      "729 examples in training, 296 examples for testing.\n"
     ]
    }
   ],
   "source": [
    "train_ds_pd, test_ds_pd = split_dataset(df)\n",
    "print(\"{} examples in training, {} examples for testing.\".format(\n",
    "    len(train_ds_pd), len(test_ds_pd)))"
   ]
  },
  {
   "cell_type": "code",
   "execution_count": 6,
   "metadata": {},
   "outputs": [
    {
     "data": {
      "text/html": [
       "<div>\n",
       "<style scoped>\n",
       "    .dataframe tbody tr th:only-of-type {\n",
       "        vertical-align: middle;\n",
       "    }\n",
       "\n",
       "    .dataframe tbody tr th {\n",
       "        vertical-align: top;\n",
       "    }\n",
       "\n",
       "    .dataframe thead th {\n",
       "        text-align: right;\n",
       "    }\n",
       "</style>\n",
       "<table border=\"1\" class=\"dataframe\">\n",
       "  <thead>\n",
       "    <tr style=\"text-align: right;\">\n",
       "      <th></th>\n",
       "      <th>age</th>\n",
       "      <th>sex</th>\n",
       "      <th>cp</th>\n",
       "      <th>trestbps</th>\n",
       "      <th>chol</th>\n",
       "      <th>fbs</th>\n",
       "      <th>restecg</th>\n",
       "      <th>thalach</th>\n",
       "      <th>exang</th>\n",
       "      <th>oldpeak</th>\n",
       "      <th>slope</th>\n",
       "      <th>ca</th>\n",
       "      <th>thal</th>\n",
       "      <th>target</th>\n",
       "    </tr>\n",
       "  </thead>\n",
       "  <tbody>\n",
       "    <tr>\n",
       "      <th>0</th>\n",
       "      <td>52</td>\n",
       "      <td>1</td>\n",
       "      <td>0</td>\n",
       "      <td>125</td>\n",
       "      <td>212</td>\n",
       "      <td>0</td>\n",
       "      <td>1</td>\n",
       "      <td>168</td>\n",
       "      <td>0</td>\n",
       "      <td>1.0</td>\n",
       "      <td>2</td>\n",
       "      <td>2</td>\n",
       "      <td>3</td>\n",
       "      <td>0</td>\n",
       "    </tr>\n",
       "    <tr>\n",
       "      <th>1</th>\n",
       "      <td>53</td>\n",
       "      <td>1</td>\n",
       "      <td>0</td>\n",
       "      <td>140</td>\n",
       "      <td>203</td>\n",
       "      <td>1</td>\n",
       "      <td>0</td>\n",
       "      <td>155</td>\n",
       "      <td>1</td>\n",
       "      <td>3.1</td>\n",
       "      <td>0</td>\n",
       "      <td>0</td>\n",
       "      <td>3</td>\n",
       "      <td>0</td>\n",
       "    </tr>\n",
       "    <tr>\n",
       "      <th>2</th>\n",
       "      <td>70</td>\n",
       "      <td>1</td>\n",
       "      <td>0</td>\n",
       "      <td>145</td>\n",
       "      <td>174</td>\n",
       "      <td>0</td>\n",
       "      <td>1</td>\n",
       "      <td>125</td>\n",
       "      <td>1</td>\n",
       "      <td>2.6</td>\n",
       "      <td>0</td>\n",
       "      <td>0</td>\n",
       "      <td>3</td>\n",
       "      <td>0</td>\n",
       "    </tr>\n",
       "    <tr>\n",
       "      <th>3</th>\n",
       "      <td>61</td>\n",
       "      <td>1</td>\n",
       "      <td>0</td>\n",
       "      <td>148</td>\n",
       "      <td>203</td>\n",
       "      <td>0</td>\n",
       "      <td>1</td>\n",
       "      <td>161</td>\n",
       "      <td>0</td>\n",
       "      <td>0.0</td>\n",
       "      <td>2</td>\n",
       "      <td>1</td>\n",
       "      <td>3</td>\n",
       "      <td>0</td>\n",
       "    </tr>\n",
       "    <tr>\n",
       "      <th>4</th>\n",
       "      <td>62</td>\n",
       "      <td>0</td>\n",
       "      <td>0</td>\n",
       "      <td>138</td>\n",
       "      <td>294</td>\n",
       "      <td>1</td>\n",
       "      <td>1</td>\n",
       "      <td>106</td>\n",
       "      <td>0</td>\n",
       "      <td>1.9</td>\n",
       "      <td>1</td>\n",
       "      <td>3</td>\n",
       "      <td>2</td>\n",
       "      <td>0</td>\n",
       "    </tr>\n",
       "    <tr>\n",
       "      <th>...</th>\n",
       "      <td>...</td>\n",
       "      <td>...</td>\n",
       "      <td>...</td>\n",
       "      <td>...</td>\n",
       "      <td>...</td>\n",
       "      <td>...</td>\n",
       "      <td>...</td>\n",
       "      <td>...</td>\n",
       "      <td>...</td>\n",
       "      <td>...</td>\n",
       "      <td>...</td>\n",
       "      <td>...</td>\n",
       "      <td>...</td>\n",
       "      <td>...</td>\n",
       "    </tr>\n",
       "    <tr>\n",
       "      <th>1020</th>\n",
       "      <td>59</td>\n",
       "      <td>1</td>\n",
       "      <td>1</td>\n",
       "      <td>140</td>\n",
       "      <td>221</td>\n",
       "      <td>0</td>\n",
       "      <td>1</td>\n",
       "      <td>164</td>\n",
       "      <td>1</td>\n",
       "      <td>0.0</td>\n",
       "      <td>2</td>\n",
       "      <td>0</td>\n",
       "      <td>2</td>\n",
       "      <td>1</td>\n",
       "    </tr>\n",
       "    <tr>\n",
       "      <th>1021</th>\n",
       "      <td>60</td>\n",
       "      <td>1</td>\n",
       "      <td>0</td>\n",
       "      <td>125</td>\n",
       "      <td>258</td>\n",
       "      <td>0</td>\n",
       "      <td>0</td>\n",
       "      <td>141</td>\n",
       "      <td>1</td>\n",
       "      <td>2.8</td>\n",
       "      <td>1</td>\n",
       "      <td>1</td>\n",
       "      <td>3</td>\n",
       "      <td>0</td>\n",
       "    </tr>\n",
       "    <tr>\n",
       "      <th>1022</th>\n",
       "      <td>47</td>\n",
       "      <td>1</td>\n",
       "      <td>0</td>\n",
       "      <td>110</td>\n",
       "      <td>275</td>\n",
       "      <td>0</td>\n",
       "      <td>0</td>\n",
       "      <td>118</td>\n",
       "      <td>1</td>\n",
       "      <td>1.0</td>\n",
       "      <td>1</td>\n",
       "      <td>1</td>\n",
       "      <td>2</td>\n",
       "      <td>0</td>\n",
       "    </tr>\n",
       "    <tr>\n",
       "      <th>1023</th>\n",
       "      <td>50</td>\n",
       "      <td>0</td>\n",
       "      <td>0</td>\n",
       "      <td>110</td>\n",
       "      <td>254</td>\n",
       "      <td>0</td>\n",
       "      <td>0</td>\n",
       "      <td>159</td>\n",
       "      <td>0</td>\n",
       "      <td>0.0</td>\n",
       "      <td>2</td>\n",
       "      <td>0</td>\n",
       "      <td>2</td>\n",
       "      <td>1</td>\n",
       "    </tr>\n",
       "    <tr>\n",
       "      <th>1024</th>\n",
       "      <td>54</td>\n",
       "      <td>1</td>\n",
       "      <td>0</td>\n",
       "      <td>120</td>\n",
       "      <td>188</td>\n",
       "      <td>0</td>\n",
       "      <td>1</td>\n",
       "      <td>113</td>\n",
       "      <td>0</td>\n",
       "      <td>1.4</td>\n",
       "      <td>1</td>\n",
       "      <td>1</td>\n",
       "      <td>3</td>\n",
       "      <td>0</td>\n",
       "    </tr>\n",
       "  </tbody>\n",
       "</table>\n",
       "<p>1025 rows × 14 columns</p>\n",
       "</div>"
      ],
      "text/plain": [
       "      age  sex  cp  trestbps  chol  fbs  restecg  thalach  exang  oldpeak  \\\n",
       "0      52    1   0       125   212    0        1      168      0      1.0   \n",
       "1      53    1   0       140   203    1        0      155      1      3.1   \n",
       "2      70    1   0       145   174    0        1      125      1      2.6   \n",
       "3      61    1   0       148   203    0        1      161      0      0.0   \n",
       "4      62    0   0       138   294    1        1      106      0      1.9   \n",
       "...   ...  ...  ..       ...   ...  ...      ...      ...    ...      ...   \n",
       "1020   59    1   1       140   221    0        1      164      1      0.0   \n",
       "1021   60    1   0       125   258    0        0      141      1      2.8   \n",
       "1022   47    1   0       110   275    0        0      118      1      1.0   \n",
       "1023   50    0   0       110   254    0        0      159      0      0.0   \n",
       "1024   54    1   0       120   188    0        1      113      0      1.4   \n",
       "\n",
       "      slope  ca  thal  target  \n",
       "0         2   2     3       0  \n",
       "1         0   0     3       0  \n",
       "2         0   0     3       0  \n",
       "3         2   1     3       0  \n",
       "4         1   3     2       0  \n",
       "...     ...  ..   ...     ...  \n",
       "1020      2   0     2       1  \n",
       "1021      1   1     3       0  \n",
       "1022      1   1     2       0  \n",
       "1023      2   0     2       1  \n",
       "1024      1   1     3       0  \n",
       "\n",
       "[1025 rows x 14 columns]"
      ]
     },
     "execution_count": 6,
     "metadata": {},
     "output_type": "execute_result"
    }
   ],
   "source": [
    "df"
   ]
  },
  {
   "cell_type": "code",
   "execution_count": 7,
   "metadata": {},
   "outputs": [],
   "source": [
    "target = 'target'\n",
    "\n",
    "classes = list(df[target].unique())\n",
    "\n",
    "df[target] = df[target].map(classes.index)"
   ]
  },
  {
   "cell_type": "code",
   "execution_count": 8,
   "metadata": {},
   "outputs": [
    {
     "name": "stdout",
     "output_type": "stream",
     "text": [
      "687 examples in training, 338 examples for testing.\n"
     ]
    }
   ],
   "source": [
    "# Split into training and test sets\n",
    "train_ds_pd, test_ds_pd = split_dataset(df)\n",
    "print(f\"{len(train_ds_pd)} examples in training, {len(test_ds_pd)} examples for testing.\")\n",
    "\n",
    "# Convert to tensorflow data sets\n",
    "train_ds = tfdf.keras.pd_dataframe_to_tf_dataset(train_ds_pd, label=target)\n",
    "test_ds = tfdf.keras.pd_dataframe_to_tf_dataset(test_ds_pd, label=target)"
   ]
  },
  {
   "cell_type": "code",
   "execution_count": 9,
   "metadata": {},
   "outputs": [
    {
     "name": "stdout",
     "output_type": "stream",
     "text": [
      "Use /tmp/tmpo9d6m4al as temporary training directory\n",
      "Reading training dataset...\n"
     ]
    },
    {
     "name": "stderr",
     "output_type": "stream",
     "text": [
      "2023-04-26 08:20:54.117669: I tensorflow/core/common_runtime/executor.cc:1197] [/device:CPU:0] (DEBUG INFO) Executor start aborting (this does not indicate an error and you can ignore this message): INVALID_ARGUMENT: You must feed a value for placeholder tensor 'Placeholder/_13' with dtype int64 and shape [687]\n",
      "\t [[{{node Placeholder/_13}}]]\n"
     ]
    },
    {
     "name": "stdout",
     "output_type": "stream",
     "text": [
      "Training dataset read in 0:00:04.963204. Found 687 examples.\n",
      "Reading validation dataset...\n"
     ]
    },
    {
     "name": "stderr",
     "output_type": "stream",
     "text": [
      "2023-04-26 08:20:59.056320: I tensorflow/core/common_runtime/executor.cc:1197] [/device:CPU:0] (DEBUG INFO) Executor start aborting (this does not indicate an error and you can ignore this message): INVALID_ARGUMENT: You must feed a value for placeholder tensor 'Placeholder/_7' with dtype int64 and shape [338]\n",
      "\t [[{{node Placeholder/_7}}]]\n"
     ]
    },
    {
     "name": "stdout",
     "output_type": "stream",
     "text": [
      "Num validation examples: tf.Tensor(338, shape=(), dtype=int32)\n",
      "Validation dataset read in 0:00:03.288236. Found 338 examples.\n",
      "Training model...\n",
      "Model trained in 0:00:08.089782\n",
      "Compiling model...\n"
     ]
    },
    {
     "name": "stderr",
     "output_type": "stream",
     "text": [
      "[INFO 23-04-26 08:21:10.3272 CEST kernel.cc:1242] Loading model from path /tmp/tmpo9d6m4al/model/ with prefix c0473095a8884aa8\n",
      "[INFO 23-04-26 08:21:10.4232 CEST decision_forest.cc:660] Model loaded with 300 root(s), 24422 node(s), and 13 input feature(s).\n",
      "[INFO 23-04-26 08:21:10.4235 CEST abstract_model.cc:1311] Engine \"RandomForestOptPred\" built\n",
      "[INFO 23-04-26 08:21:10.4235 CEST kernel.cc:1074] Use fast generic engine\n",
      "2023-04-26 08:21:10.683996: I tensorflow/core/common_runtime/executor.cc:1197] [/device:CPU:0] (DEBUG INFO) Executor start aborting (this does not indicate an error and you can ignore this message): INVALID_ARGUMENT: You must feed a value for placeholder tensor 'Placeholder/_6' with dtype double and shape [687]\n",
      "\t [[{{node Placeholder/_6}}]]\n"
     ]
    },
    {
     "name": "stdout",
     "output_type": "stream",
     "text": [
      "WARNING:tensorflow:AutoGraph could not transform <function simple_ml_inference_op_with_handle at 0x7ff6b6573160> and will run it as-is.\n",
      "Please report this to the TensorFlow team. When filing the bug, set the verbosity to 10 (on Linux, `export AUTOGRAPH_VERBOSITY=10`) and attach the full output.\n",
      "Cause: could not get source code\n",
      "To silence this warning, decorate the function with @tf.autograph.experimental.do_not_convert\n"
     ]
    },
    {
     "name": "stderr",
     "output_type": "stream",
     "text": [
      "WARNING:tensorflow:AutoGraph could not transform <function simple_ml_inference_op_with_handle at 0x7ff6b6573160> and will run it as-is.\n",
      "Please report this to the TensorFlow team. When filing the bug, set the verbosity to 10 (on Linux, `export AUTOGRAPH_VERBOSITY=10`) and attach the full output.\n",
      "Cause: could not get source code\n",
      "To silence this warning, decorate the function with @tf.autograph.experimental.do_not_convert\n"
     ]
    },
    {
     "name": "stdout",
     "output_type": "stream",
     "text": [
      "WARNING: AutoGraph could not transform <function simple_ml_inference_op_with_handle at 0x7ff6b6573160> and will run it as-is.\n",
      "Please report this to the TensorFlow team. When filing the bug, set the verbosity to 10 (on Linux, `export AUTOGRAPH_VERBOSITY=10`) and attach the full output.\n",
      "Cause: could not get source code\n",
      "To silence this warning, decorate the function with @tf.autograph.experimental.do_not_convert\n",
      "Model compiled.\n"
     ]
    },
    {
     "data": {
      "text/plain": [
       "<keras.callbacks.History at 0x7ff6b214d580>"
      ]
     },
     "execution_count": 9,
     "metadata": {},
     "output_type": "execute_result"
    }
   ],
   "source": [
    "# Specify the model.\n",
    "model_1 = tfdf.keras.RandomForestModel()\n",
    "\n",
    "# Train the model.\n",
    "model_1.fit(train_ds, validation_data=test_ds)"
   ]
  },
  {
   "cell_type": "code",
   "execution_count": 10,
   "metadata": {},
   "outputs": [
    {
     "name": "stdout",
     "output_type": "stream",
     "text": [
      "1/1 [==============================] - 0s 120ms/step - loss: 0.0000e+00 - accuracy: 0.9438\n",
      "\n",
      "loss: 0.0000\n",
      "accuracy: 0.9438\n"
     ]
    }
   ],
   "source": [
    "model_1.compile(metrics=[\"accuracy\"])\n",
    "evaluation = model_1.evaluate(test_ds, return_dict=True)\n",
    "print()\n",
    "\n",
    "for name, value in evaluation.items():\n",
    "  print(f\"{name}: {value:.4f}\")"
   ]
  },
  {
   "cell_type": "code",
   "execution_count": 11,
   "metadata": {},
   "outputs": [
    {
     "name": "stderr",
     "output_type": "stream",
     "text": [
      "WARNING:absl:Found untraced functions such as call_get_leaves, _update_step_xla while saving (showing 2 of 2). These functions will not be directly callable after loading.\n"
     ]
    },
    {
     "name": "stdout",
     "output_type": "stream",
     "text": [
      "INFO:tensorflow:Assets written to: /tmp/my_saved_model/assets\n"
     ]
    },
    {
     "name": "stderr",
     "output_type": "stream",
     "text": [
      "INFO:tensorflow:Assets written to: /tmp/my_saved_model/assets\n"
     ]
    }
   ],
   "source": [
    "model_1.save(\"/tmp/my_saved_model\")"
   ]
  },
  {
   "cell_type": "code",
   "execution_count": 12,
   "metadata": {},
   "outputs": [
    {
     "name": "stdout",
     "output_type": "stream",
     "text": [
      "Model: \"random_forest_model\"\n",
      "_________________________________________________________________\n",
      " Layer (type)                Output Shape              Param #   \n",
      "=================================================================\n",
      "=================================================================\n",
      "Total params: 1\n",
      "Trainable params: 0\n",
      "Non-trainable params: 1\n",
      "_________________________________________________________________\n",
      "Type: \"RANDOM_FOREST\"\n",
      "Task: CLASSIFICATION\n",
      "Label: \"__LABEL\"\n",
      "\n",
      "Input Features (13):\n",
      "\tage\n",
      "\tca\n",
      "\tchol\n",
      "\tcp\n",
      "\texang\n",
      "\tfbs\n",
      "\toldpeak\n",
      "\trestecg\n",
      "\tsex\n",
      "\tslope\n",
      "\tthal\n",
      "\tthalach\n",
      "\ttrestbps\n",
      "\n",
      "No weights\n",
      "\n",
      "Variable Importance: INV_MEAN_MIN_DEPTH:\n",
      "    1.       \"cp\"  0.294385 ################\n",
      "    2.     \"thal\"  0.243481 ##########\n",
      "    3.       \"ca\"  0.234838 #########\n",
      "    4.  \"oldpeak\"  0.210699 #######\n",
      "    5.  \"thalach\"  0.196582 #####\n",
      "    6.      \"age\"  0.181287 ####\n",
      "    7.    \"exang\"  0.166425 ##\n",
      "    8.     \"chol\"  0.163806 ##\n",
      "    9.      \"sex\"  0.163708 ##\n",
      "   10. \"trestbps\"  0.161703 #\n",
      "   11.    \"slope\"  0.161631 #\n",
      "   12.  \"restecg\"  0.144314 \n",
      "   13.      \"fbs\"  0.142839 \n",
      "\n",
      "Variable Importance: NUM_AS_ROOT:\n",
      "    1.      \"cp\" 111.000000 ################\n",
      "    2.    \"thal\" 78.000000 ###########\n",
      "    3.      \"ca\" 47.000000 ######\n",
      "    4.   \"exang\" 22.000000 ###\n",
      "    5. \"oldpeak\" 21.000000 ##\n",
      "    6. \"thalach\" 12.000000 #\n",
      "    7.   \"slope\"  7.000000 \n",
      "    8.     \"age\"  1.000000 \n",
      "    9.     \"sex\"  1.000000 \n",
      "\n",
      "Variable Importance: NUM_NODES:\n",
      "    1.      \"age\" 1738.000000 ################\n",
      "    2.  \"thalach\" 1735.000000 ###############\n",
      "    3.     \"chol\" 1635.000000 ##############\n",
      "    4.  \"oldpeak\" 1489.000000 #############\n",
      "    5. \"trestbps\" 1246.000000 ###########\n",
      "    6.       \"ca\" 853.000000 #######\n",
      "    7.       \"cp\" 839.000000 ######\n",
      "    8.     \"thal\" 696.000000 #####\n",
      "    9.      \"sex\" 477.000000 ###\n",
      "   10.    \"slope\" 442.000000 ##\n",
      "   11.  \"restecg\" 399.000000 ##\n",
      "   12.    \"exang\" 363.000000 ##\n",
      "   13.      \"fbs\" 149.000000 \n",
      "\n",
      "Variable Importance: SUM_SCORE:\n",
      "    1.       \"cp\" 22110.533990 ################\n",
      "    2.     \"thal\" 16133.400093 ###########\n",
      "    3.  \"oldpeak\" 15032.300862 ##########\n",
      "    4.       \"ca\" 14917.585425 ##########\n",
      "    5.  \"thalach\" 13353.078614 #########\n",
      "    6.      \"age\" 12172.959227 ########\n",
      "    7.     \"chol\" 9242.037459 ######\n",
      "    8. \"trestbps\" 7105.717540 ####\n",
      "    9.    \"exang\" 5324.052473 ###\n",
      "   10.      \"sex\" 4612.516899 ##\n",
      "   11.    \"slope\" 4468.338094 ##\n",
      "   12.  \"restecg\" 2147.192762 #\n",
      "   13.      \"fbs\" 731.101388 \n",
      "\n",
      "\n",
      "\n",
      "Winner takes all: true\n",
      "Out-of-bag evaluation: accuracy:0.965065 logloss:0.166357\n",
      "Number of trees: 300\n",
      "Total number of nodes: 24422\n",
      "\n",
      "Number of nodes by tree:\n",
      "Count: 300 Average: 81.4067 StdDev: 5.86356\n",
      "Min: 65 Max: 97 Ignored: 0\n",
      "----------------------------------------------\n",
      "[ 65, 66)  2   0.67%   0.67%\n",
      "[ 66, 68)  0   0.00%   0.67%\n",
      "[ 68, 69)  0   0.00%   0.67%\n",
      "[ 69, 71)  5   1.67%   2.33% #\n",
      "[ 71, 73)  5   1.67%   4.00% #\n",
      "[ 73, 74) 17   5.67%   9.67% ####\n",
      "[ 74, 76) 21   7.00%  16.67% #####\n",
      "[ 76, 78) 37  12.33%  29.00% #########\n",
      "[ 78, 79)  0   0.00%  29.00%\n",
      "[ 79, 81) 39  13.00%  42.00% #########\n",
      "[ 81, 83) 42  14.00%  56.00% ##########\n",
      "[ 83, 84) 39  13.00%  69.00% #########\n",
      "[ 84, 86) 31  10.33%  79.33% #######\n",
      "[ 86, 88) 22   7.33%  86.67% #####\n",
      "[ 88, 89)  0   0.00%  86.67%\n",
      "[ 89, 91) 16   5.33%  92.00% ####\n",
      "[ 91, 93)  7   2.33%  94.33% ##\n",
      "[ 93, 94) 10   3.33%  97.67% ##\n",
      "[ 94, 96)  6   2.00%  99.67% #\n",
      "[ 96, 97]  1   0.33% 100.00%\n",
      "\n",
      "Depth by leafs:\n",
      "Count: 12361 Average: 6.19375 StdDev: 1.68383\n",
      "Min: 2 Max: 14 Ignored: 0\n",
      "----------------------------------------------\n",
      "[  2,  3)   18   0.15%   0.15%\n",
      "[  3,  4)  426   3.45%   3.59% #\n",
      "[  4,  5) 1393  11.27%  14.86% #####\n",
      "[  5,  6) 2672  21.62%  36.48% #########\n",
      "[  6,  7) 2938  23.77%  60.25% ##########\n",
      "[  7,  8) 2373  19.20%  79.44% ########\n",
      "[  8,  9) 1413  11.43%  90.87% #####\n",
      "[  9, 10)  720   5.82%  96.70% ##\n",
      "[ 10, 11)  272   2.20%  98.90% #\n",
      "[ 11, 12)   82   0.66%  99.56%\n",
      "[ 12, 13)   36   0.29%  99.85%\n",
      "[ 13, 14)   14   0.11%  99.97%\n",
      "[ 14, 14]    4   0.03% 100.00%\n",
      "\n",
      "Number of training obs by leaf:\n",
      "Count: 12361 Average: 16.6734 StdDev: 23.2047\n",
      "Min: 5 Max: 180 Ignored: 0\n",
      "----------------------------------------------\n",
      "[   5,  13) 8577  69.39%  69.39% ##########\n",
      "[  13,  22) 1566  12.67%  82.06% ##\n",
      "[  22,  31)  688   5.57%  87.62% #\n",
      "[  31,  40)  426   3.45%  91.07%\n",
      "[  40,  49)  241   1.95%  93.02%\n",
      "[  49,  57)  142   1.15%  94.17%\n",
      "[  57,  66)   93   0.75%  94.92%\n",
      "[  66,  75)  103   0.83%  95.75%\n",
      "[  75,  84)   96   0.78%  96.53%\n",
      "[  84,  93)   99   0.80%  97.33%\n",
      "[  93, 101)   57   0.46%  97.79%\n",
      "[ 101, 110)   53   0.43%  98.22%\n",
      "[ 110, 119)   59   0.48%  98.70%\n",
      "[ 119, 128)   36   0.29%  98.99%\n",
      "[ 128, 137)   32   0.26%  99.25%\n",
      "[ 137, 145)   22   0.18%  99.43%\n",
      "[ 145, 154)   24   0.19%  99.62%\n",
      "[ 154, 163)   29   0.23%  99.85%\n",
      "[ 163, 172)   13   0.11%  99.96%\n",
      "[ 172, 180]    5   0.04% 100.00%\n",
      "\n",
      "Attribute in nodes:\n",
      "\t1738 : age [NUMERICAL]\n",
      "\t1735 : thalach [NUMERICAL]\n",
      "\t1635 : chol [NUMERICAL]\n",
      "\t1489 : oldpeak [NUMERICAL]\n",
      "\t1246 : trestbps [NUMERICAL]\n",
      "\t853 : ca [NUMERICAL]\n",
      "\t839 : cp [NUMERICAL]\n",
      "\t696 : thal [NUMERICAL]\n",
      "\t477 : sex [NUMERICAL]\n",
      "\t442 : slope [NUMERICAL]\n",
      "\t399 : restecg [NUMERICAL]\n",
      "\t363 : exang [NUMERICAL]\n",
      "\t149 : fbs [NUMERICAL]\n",
      "\n",
      "Attribute in nodes with depth <= 0:\n",
      "\t111 : cp [NUMERICAL]\n",
      "\t78 : thal [NUMERICAL]\n",
      "\t47 : ca [NUMERICAL]\n",
      "\t22 : exang [NUMERICAL]\n",
      "\t21 : oldpeak [NUMERICAL]\n",
      "\t12 : thalach [NUMERICAL]\n",
      "\t7 : slope [NUMERICAL]\n",
      "\t1 : sex [NUMERICAL]\n",
      "\t1 : age [NUMERICAL]\n",
      "\n",
      "Attribute in nodes with depth <= 1:\n",
      "\t212 : cp [NUMERICAL]\n",
      "\t172 : thal [NUMERICAL]\n",
      "\t159 : ca [NUMERICAL]\n",
      "\t112 : oldpeak [NUMERICAL]\n",
      "\t62 : thalach [NUMERICAL]\n",
      "\t61 : exang [NUMERICAL]\n",
      "\t48 : slope [NUMERICAL]\n",
      "\t35 : age [NUMERICAL]\n",
      "\t24 : sex [NUMERICAL]\n",
      "\t11 : trestbps [NUMERICAL]\n",
      "\t3 : chol [NUMERICAL]\n",
      "\t1 : restecg [NUMERICAL]\n",
      "\n",
      "Attribute in nodes with depth <= 2:\n",
      "\t334 : cp [NUMERICAL]\n",
      "\t298 : oldpeak [NUMERICAL]\n",
      "\t292 : ca [NUMERICAL]\n",
      "\t289 : thal [NUMERICAL]\n",
      "\t215 : thalach [NUMERICAL]\n",
      "\t142 : age [NUMERICAL]\n",
      "\t116 : slope [NUMERICAL]\n",
      "\t114 : exang [NUMERICAL]\n",
      "\t98 : sex [NUMERICAL]\n",
      "\t86 : trestbps [NUMERICAL]\n",
      "\t75 : chol [NUMERICAL]\n",
      "\t18 : restecg [NUMERICAL]\n",
      "\t5 : fbs [NUMERICAL]\n",
      "\n",
      "Attribute in nodes with depth <= 3:\n",
      "\t552 : oldpeak [NUMERICAL]\n",
      "\t499 : thalach [NUMERICAL]\n",
      "\t464 : cp [NUMERICAL]\n",
      "\t435 : ca [NUMERICAL]\n",
      "\t408 : thal [NUMERICAL]\n",
      "\t392 : age [NUMERICAL]\n",
      "\t308 : chol [NUMERICAL]\n",
      "\t255 : trestbps [NUMERICAL]\n",
      "\t210 : sex [NUMERICAL]\n",
      "\t193 : slope [NUMERICAL]\n",
      "\t186 : exang [NUMERICAL]\n",
      "\t86 : restecg [NUMERICAL]\n",
      "\t32 : fbs [NUMERICAL]\n",
      "\n",
      "Attribute in nodes with depth <= 5:\n",
      "\t1234 : thalach [NUMERICAL]\n",
      "\t1146 : age [NUMERICAL]\n",
      "\t1138 : oldpeak [NUMERICAL]\n",
      "\t1035 : chol [NUMERICAL]\n",
      "\t843 : trestbps [NUMERICAL]\n",
      "\t700 : ca [NUMERICAL]\n",
      "\t677 : cp [NUMERICAL]\n",
      "\t613 : thal [NUMERICAL]\n",
      "\t403 : sex [NUMERICAL]\n",
      "\t346 : slope [NUMERICAL]\n",
      "\t292 : exang [NUMERICAL]\n",
      "\t270 : restecg [NUMERICAL]\n",
      "\t100 : fbs [NUMERICAL]\n",
      "\n",
      "Condition type in nodes:\n",
      "\t12061 : HigherCondition\n",
      "Condition type in nodes with depth <= 0:\n",
      "\t300 : HigherCondition\n",
      "Condition type in nodes with depth <= 1:\n",
      "\t900 : HigherCondition\n",
      "Condition type in nodes with depth <= 2:\n",
      "\t2082 : HigherCondition\n",
      "Condition type in nodes with depth <= 3:\n",
      "\t4020 : HigherCondition\n",
      "Condition type in nodes with depth <= 5:\n",
      "\t8797 : HigherCondition\n",
      "Node format: NOT_SET\n",
      "\n",
      "Training OOB:\n",
      "\ttrees: 1, Out-of-bag evaluation: accuracy:0.865854 logloss:4.83512\n",
      "\ttrees: 11, Out-of-bag evaluation: accuracy:0.88774 logloss:1.08144\n",
      "\ttrees: 21, Out-of-bag evaluation: accuracy:0.922853 logloss:0.289962\n",
      "\ttrees: 31, Out-of-bag evaluation: accuracy:0.930131 logloss:0.238115\n",
      "\ttrees: 41, Out-of-bag evaluation: accuracy:0.94032 logloss:0.180769\n",
      "\ttrees: 51, Out-of-bag evaluation: accuracy:0.941776 logloss:0.175828\n",
      "\ttrees: 61, Out-of-bag evaluation: accuracy:0.944687 logloss:0.175421\n",
      "\ttrees: 71, Out-of-bag evaluation: accuracy:0.949054 logloss:0.172559\n",
      "\ttrees: 81, Out-of-bag evaluation: accuracy:0.950509 logloss:0.17252\n",
      "\ttrees: 91, Out-of-bag evaluation: accuracy:0.949054 logloss:0.171648\n",
      "\ttrees: 101, Out-of-bag evaluation: accuracy:0.951965 logloss:0.172853\n",
      "\ttrees: 111, Out-of-bag evaluation: accuracy:0.951965 logloss:0.17064\n",
      "\ttrees: 121, Out-of-bag evaluation: accuracy:0.951965 logloss:0.170518\n",
      "\ttrees: 131, Out-of-bag evaluation: accuracy:0.953421 logloss:0.168693\n",
      "\ttrees: 141, Out-of-bag evaluation: accuracy:0.953421 logloss:0.169126\n",
      "\ttrees: 151, Out-of-bag evaluation: accuracy:0.957787 logloss:0.168308\n",
      "\ttrees: 161, Out-of-bag evaluation: accuracy:0.965065 logloss:0.168033\n",
      "\ttrees: 171, Out-of-bag evaluation: accuracy:0.965065 logloss:0.1681\n",
      "\ttrees: 181, Out-of-bag evaluation: accuracy:0.962154 logloss:0.167921\n",
      "\ttrees: 191, Out-of-bag evaluation: accuracy:0.960699 logloss:0.166901\n",
      "\ttrees: 202, Out-of-bag evaluation: accuracy:0.960699 logloss:0.167126\n",
      "\ttrees: 212, Out-of-bag evaluation: accuracy:0.962154 logloss:0.166841\n",
      "\ttrees: 222, Out-of-bag evaluation: accuracy:0.96361 logloss:0.166348\n",
      "\ttrees: 232, Out-of-bag evaluation: accuracy:0.96361 logloss:0.166012\n",
      "\ttrees: 242, Out-of-bag evaluation: accuracy:0.959243 logloss:0.166697\n",
      "\ttrees: 252, Out-of-bag evaluation: accuracy:0.960699 logloss:0.166865\n",
      "\ttrees: 262, Out-of-bag evaluation: accuracy:0.960699 logloss:0.167398\n",
      "\ttrees: 272, Out-of-bag evaluation: accuracy:0.96361 logloss:0.166683\n",
      "\ttrees: 282, Out-of-bag evaluation: accuracy:0.966521 logloss:0.166153\n",
      "\ttrees: 292, Out-of-bag evaluation: accuracy:0.967977 logloss:0.165897\n",
      "\ttrees: 300, Out-of-bag evaluation: accuracy:0.965065 logloss:0.166357\n",
      "\n"
     ]
    }
   ],
   "source": [
    "model_1.summary()"
   ]
  },
  {
   "cell_type": "code",
   "execution_count": 13,
   "metadata": {},
   "outputs": [
    {
     "data": {
      "text/plain": [
       "[\"age\" (1; #1),\n",
       " \"ca\" (1; #2),\n",
       " \"chol\" (1; #3),\n",
       " \"cp\" (1; #4),\n",
       " \"exang\" (1; #5),\n",
       " \"fbs\" (1; #6),\n",
       " \"oldpeak\" (1; #7),\n",
       " \"restecg\" (1; #8),\n",
       " \"sex\" (1; #9),\n",
       " \"slope\" (1; #10),\n",
       " \"thal\" (1; #11),\n",
       " \"thalach\" (1; #12),\n",
       " \"trestbps\" (1; #13)]"
      ]
     },
     "execution_count": 13,
     "metadata": {},
     "output_type": "execute_result"
    }
   ],
   "source": [
    "# The input features\n",
    "model_1.make_inspector().features()"
   ]
  },
  {
   "cell_type": "code",
   "execution_count": 14,
   "metadata": {},
   "outputs": [
    {
     "data": {
      "text/plain": [
       "{'INV_MEAN_MIN_DEPTH': [(\"cp\" (1; #4), 0.29438522169382536),\n",
       "  (\"thal\" (1; #11), 0.24348055366467178),\n",
       "  (\"ca\" (1; #2), 0.2348375493812727),\n",
       "  (\"oldpeak\" (1; #7), 0.21069914912620683),\n",
       "  (\"thalach\" (1; #12), 0.19658158638413753),\n",
       "  (\"age\" (1; #1), 0.18128702295368124),\n",
       "  (\"exang\" (1; #5), 0.16642538432986412),\n",
       "  (\"chol\" (1; #3), 0.163806244749933),\n",
       "  (\"sex\" (1; #9), 0.16370800717711784),\n",
       "  (\"trestbps\" (1; #13), 0.16170334288558721),\n",
       "  (\"slope\" (1; #10), 0.16163104198552056),\n",
       "  (\"restecg\" (1; #8), 0.14431408143199986),\n",
       "  (\"fbs\" (1; #6), 0.1428390954897158)],\n",
       " 'NUM_AS_ROOT': [(\"cp\" (1; #4), 111.0),\n",
       "  (\"thal\" (1; #11), 78.0),\n",
       "  (\"ca\" (1; #2), 47.0),\n",
       "  (\"exang\" (1; #5), 22.0),\n",
       "  (\"oldpeak\" (1; #7), 21.0),\n",
       "  (\"thalach\" (1; #12), 12.0),\n",
       "  (\"slope\" (1; #10), 7.0),\n",
       "  (\"age\" (1; #1), 1.0),\n",
       "  (\"sex\" (1; #9), 1.0)],\n",
       " 'SUM_SCORE': [(\"cp\" (1; #4), 22110.53399033565),\n",
       "  (\"thal\" (1; #11), 16133.400092552416),\n",
       "  (\"oldpeak\" (1; #7), 15032.300861702766),\n",
       "  (\"ca\" (1; #2), 14917.585425066762),\n",
       "  (\"thalach\" (1; #12), 13353.078614367289),\n",
       "  (\"age\" (1; #1), 12172.959227033949),\n",
       "  (\"chol\" (1; #3), 9242.037459098268),\n",
       "  (\"trestbps\" (1; #13), 7105.717539731413),\n",
       "  (\"exang\" (1; #5), 5324.05247328151),\n",
       "  (\"sex\" (1; #9), 4612.51689926954),\n",
       "  (\"slope\" (1; #10), 4468.338093844708),\n",
       "  (\"restecg\" (1; #8), 2147.1927617553156),\n",
       "  (\"fbs\" (1; #6), 731.1013884055428)],\n",
       " 'NUM_NODES': [(\"age\" (1; #1), 1738.0),\n",
       "  (\"thalach\" (1; #12), 1735.0),\n",
       "  (\"chol\" (1; #3), 1635.0),\n",
       "  (\"oldpeak\" (1; #7), 1489.0),\n",
       "  (\"trestbps\" (1; #13), 1246.0),\n",
       "  (\"ca\" (1; #2), 853.0),\n",
       "  (\"cp\" (1; #4), 839.0),\n",
       "  (\"thal\" (1; #11), 696.0),\n",
       "  (\"sex\" (1; #9), 477.0),\n",
       "  (\"slope\" (1; #10), 442.0),\n",
       "  (\"restecg\" (1; #8), 399.0),\n",
       "  (\"exang\" (1; #5), 363.0),\n",
       "  (\"fbs\" (1; #6), 149.0)]}"
      ]
     },
     "execution_count": 14,
     "metadata": {},
     "output_type": "execute_result"
    }
   ],
   "source": [
    "# The feature importances\n",
    "model_1.make_inspector().variable_importances()"
   ]
  },
  {
   "cell_type": "code",
   "execution_count": 15,
   "metadata": {},
   "outputs": [],
   "source": [
    "# Tell dtreeviz about training data and model\n",
    "features = [f.name for f in model_1.make_inspector().features()]\n",
    "viz_cmodel = dtreeviz.model(model_1,\n",
    "                           tree_index=3,\n",
    "                           X_train=train_ds_pd[features],\n",
    "                           y_train=train_ds_pd[target],\n",
    "                           feature_names=features,\n",
    "                           target_name=target,\n",
    "                           class_names=classes)"
   ]
  },
  {
   "cell_type": "code",
   "execution_count": null,
   "metadata": {},
   "outputs": [],
   "source": [
    "viz_cmodel.view(scale=1.2)"
   ]
  },
  {
   "cell_type": "code",
   "execution_count": null,
   "metadata": {},
   "outputs": [],
   "source": [
    "print(features)"
   ]
  },
  {
   "cell_type": "code",
   "execution_count": null,
   "metadata": {},
   "outputs": [],
   "source": [
    "model_1.save(\"my_model\")"
   ]
  },
  {
   "cell_type": "code",
   "execution_count": null,
   "metadata": {},
   "outputs": [],
   "source": [
    "df.head(1)"
   ]
  },
  {
   "cell_type": "markdown",
   "metadata": {},
   "source": [
    "df[~'infectionProb']"
   ]
  },
  {
   "cell_type": "code",
   "execution_count": null,
   "metadata": {},
   "outputs": [],
   "source": [
    "test = tfdf.keras.pd_dataframe_to_tf_dataset(df.loc[:, df.columns!='infectionProb'].head(1))\n",
    "t1 = df['infectionProb'].head(1)"
   ]
  },
  {
   "cell_type": "code",
   "execution_count": null,
   "metadata": {},
   "outputs": [],
   "source": [
    "tes = model_1.predict(test, verbose=0)"
   ]
  },
  {
   "cell_type": "code",
   "execution_count": null,
   "metadata": {},
   "outputs": [],
   "source": [
    "k = []\n",
    "i = 0\n",
    "cnt = 0\n",
    "for t in tes:\n",
    "    if(t[0]>0.50):\n",
    "        k.append(1)\n",
    "        #print(\"1 - \" + str(t1[i]))\n",
    "        if(t1[i] == 1):\n",
    "            cnt += 1\n",
    "    else:\n",
    "        k.append(0)\n",
    "        #print(\"0 - \" + str(t1[i]))\n",
    "        if(t1[i] == 0):\n",
    "            cnt += 1\n",
    "    i+=1\n",
    "print(cnt/len(t1))"
   ]
  },
  {
   "cell_type": "code",
   "execution_count": null,
   "metadata": {},
   "outputs": [],
   "source": [
    "print(df.head(1))"
   ]
  },
  {
   "cell_type": "code",
   "execution_count": null,
   "metadata": {},
   "outputs": [],
   "source": [
    "t2_dic = {'fever':[103], 'bodyPain': [0], 'runnyNose':[1], 'diffBreath':[-1]}\n",
    "t2_df = pd.DataFrame.from_dict(t2_dic)"
   ]
  },
  {
   "cell_type": "code",
   "execution_count": null,
   "metadata": {},
   "outputs": [],
   "source": [
    "d2_tfdf = tfdf.keras.pd_dataframe_to_tf_dataset(t2_df)"
   ]
  },
  {
   "cell_type": "code",
   "execution_count": null,
   "metadata": {},
   "outputs": [],
   "source": [
    "model_1.predict(d2_tfdf, verbose=0)"
   ]
  }
 ],
 "metadata": {
  "kernelspec": {
   "display_name": "Python 3 (ipykernel)",
   "language": "python",
   "name": "python3"
  },
  "language_info": {
   "codemirror_mode": {
    "name": "ipython",
    "version": 3
   },
   "file_extension": ".py",
   "mimetype": "text/x-python",
   "name": "python",
   "nbconvert_exporter": "python",
   "pygments_lexer": "ipython3",
   "version": "3.9.12"
  }
 },
 "nbformat": 4,
 "nbformat_minor": 2
}
