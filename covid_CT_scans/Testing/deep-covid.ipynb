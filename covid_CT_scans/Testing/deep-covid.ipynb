{
 "cells": [
  {
   "cell_type": "markdown",
   "id": "practical-ridge",
   "metadata": {
    "papermill": {
     "duration": 0.032936,
     "end_time": "2021-06-06T15:54:51.878229",
     "exception": false,
     "start_time": "2021-06-06T15:54:51.845293",
     "status": "completed"
    },
    "tags": []
   },
   "source": [
    "### Deep CNN-Based CAD System for COVID-19 Detection.\n",
    "#### _ Mehrad Aria"
   ]
  },
  {
   "cell_type": "code",
   "execution_count": 1,
   "id": "clear-parliament",
   "metadata": {
    "_cell_guid": "b1076dfc-b9ad-4769-8c92-a6c4dae69d19",
    "_uuid": "8f2839f25d086af736a60e9eeb907d3b93b6e0e5",
    "execution": {
     "iopub.execute_input": "2021-06-06T15:54:51.961913Z",
     "iopub.status.busy": "2021-06-06T15:54:51.960908Z",
     "iopub.status.idle": "2021-06-06T15:55:04.559076Z",
     "shell.execute_reply": "2021-06-06T15:55:04.558101Z"
    },
    "papermill": {
     "duration": 12.649435,
     "end_time": "2021-06-06T15:55:04.559265",
     "exception": false,
     "start_time": "2021-06-06T15:54:51.909830",
     "status": "completed"
    },
    "tags": []
   },
   "outputs": [
    {
     "name": "stdout",
     "output_type": "stream",
     "text": [
      "Number of replicas: 1\n",
      "Tensorflow version  2.10.0\n"
     ]
    }
   ],
   "source": [
    "import os\n",
    "import random\n",
    "import numpy as np\n",
    "import math\n",
    "import itertools\n",
    "\n",
    "SEED = 7\n",
    "os.environ['PYTHONHASHSEED']=str(SEED)\n",
    "np.random.seed(SEED)\n",
    "random.seed(SEED)\n",
    "\n",
    "import tensorflow as tf\n",
    "tf.random.set_seed(SEED)\n",
    "import tensorflow.keras\n",
    "from tensorflow.keras import layers, models, optimizers\n",
    "from tensorflow.keras.layers import Dense, BatchNormalization, Dropout, Activation, GlobalAveragePooling2D, Input\n",
    "from tensorflow.keras.models import Sequential, load_model, Model\n",
    "from tensorflow.keras import regularizers\n",
    "from tensorflow.keras.utils import to_categorical\n",
    "from tensorflow.keras.callbacks import ModelCheckpoint, ReduceLROnPlateau, EarlyStopping\n",
    "from tensorflow.keras.preprocessing import image\n",
    "from tensorflow.keras.layers.experimental import preprocessing\n",
    "import tensorflow.keras.backend as K\n",
    "\n",
    "from tensorflow.keras.applications import DenseNet201\n",
    "NETWORK = DenseNet201\n",
    "\n",
    "from sklearn.model_selection import train_test_split\n",
    "from sklearn import metrics\n",
    "from sklearn.metrics import confusion_matrix, mean_squared_error, classification_report\n",
    "\n",
    "\n",
    "import re\n",
    "import imageio\n",
    "import pandas as pd\n",
    "import matplotlib as mpl\n",
    "import matplotlib.pyplot as plt\n",
    "import matplotlib.cm as cm\n",
    "import seaborn as sns\n",
    "%matplotlib inline\n",
    "\n",
    "try:\n",
    "    tpu = None\n",
    "    tpu = tf.distribute.cluster_resolver.TPUClusterResolver()\n",
    "    print('Device:', tpu.master())\n",
    "    tf.config.experimental_connect_to_cluster(tpu)\n",
    "    tf.tpu.experimental.initialize_tpu_system(tpu)\n",
    "\n",
    "    strategy = tf.distribute.experimental.TPUStrategy(tpu)\n",
    "except:\n",
    "    strategy = tf.distribute.get_strategy()\n",
    "print('Number of replicas:', strategy.num_replicas_in_sync)\n",
    "    \n",
    "print(\"Tensorflow version \", tf.__version__)"
   ]
  },
  {
   "cell_type": "code",
   "execution_count": 2,
   "id": "subjective-monster",
   "metadata": {
    "execution": {
     "iopub.execute_input": "2021-06-06T15:55:04.630049Z",
     "iopub.status.busy": "2021-06-06T15:55:04.629327Z",
     "iopub.status.idle": "2021-06-06T15:55:04.632387Z",
     "shell.execute_reply": "2021-06-06T15:55:04.631838Z"
    },
    "papermill": {
     "duration": 0.039559,
     "end_time": "2021-06-06T15:55:04.632535",
     "exception": false,
     "start_time": "2021-06-06T15:55:04.592976",
     "status": "completed"
    },
    "tags": []
   },
   "outputs": [],
   "source": [
    "# from tensorflow.keras.mixed_precision import experimental as mixed_precision\n",
    "# policy = mixed_precision.Policy('mixed_float16')\n",
    "# mixed_precision.set_policy(policy)"
   ]
  },
  {
   "cell_type": "code",
   "execution_count": 3,
   "id": "visible-oxygen",
   "metadata": {
    "execution": {
     "iopub.execute_input": "2021-06-06T15:55:04.711094Z",
     "iopub.status.busy": "2021-06-06T15:55:04.710389Z",
     "iopub.status.idle": "2021-06-06T15:55:05.021562Z",
     "shell.execute_reply": "2021-06-06T15:55:05.020965Z"
    },
    "papermill": {
     "duration": 0.356138,
     "end_time": "2021-06-06T15:55:05.021715",
     "exception": false,
     "start_time": "2021-06-06T15:55:04.665577",
     "status": "completed"
    },
    "tags": []
   },
   "outputs": [],
   "source": [
    "#from kaggle_secrets import UserSecretsClient\n",
    "#user_secrets = UserSecretsClient()\n",
    "#user_credential = user_secrets.get_gcloud_credential()\n",
    "\n",
    "#user_secrets.set_tensorflow_credential(user_credential)"
   ]
  },
  {
   "cell_type": "code",
   "execution_count": 4,
   "id": "aging-hunter",
   "metadata": {
    "execution": {
     "iopub.execute_input": "2021-06-06T15:55:05.089525Z",
     "iopub.status.busy": "2021-06-06T15:55:05.088902Z",
     "iopub.status.idle": "2021-06-06T15:55:05.098608Z",
     "shell.execute_reply": "2021-06-06T15:55:05.098036Z"
    },
    "papermill": {
     "duration": 0.044835,
     "end_time": "2021-06-06T15:55:05.098750",
     "exception": false,
     "start_time": "2021-06-06T15:55:05.053915",
     "status": "completed"
    },
    "tags": []
   },
   "outputs": [],
   "source": [
    "# Cosine annealing scheduler\n",
    "from tensorflow.keras.callbacks import Callback\n",
    "class CosineAnnealingScheduler(Callback):\n",
    "\n",
    "    def __init__(self, T_max, eta_max, eta_min=0, verbose=0):\n",
    "        super(CosineAnnealingScheduler, self).__init__()\n",
    "        self.T_max = T_max\n",
    "        self.eta_max = eta_max\n",
    "        self.eta_min = eta_min\n",
    "        self.verbose = verbose\n",
    "\n",
    "    def on_epoch_begin(self, epoch, logs=None):\n",
    "        if not hasattr(self.model.optimizer, 'lr'):\n",
    "            raise ValueError('Optimizer must have a \"lr\" attribute.')\n",
    "        lr = self.eta_min + (self.eta_max - self.eta_min) * (1 + math.cos(math.pi * epoch / self.T_max)) / 2\n",
    "        K.set_value(self.model.optimizer.lr, lr)\n",
    "        if self.verbose > 0:\n",
    "            print('\\nEpoch %05d: CosineAnnealingScheduler setting learning '\n",
    "                  'rate to %s.' % (epoch + 1, lr))\n",
    "\n",
    "    def on_epoch_end(self, epoch, logs=None):\n",
    "        logs = logs or {}\n",
    "        logs['lr'] = K.get_value(self.model.optimizer.lr)"
   ]
  },
  {
   "cell_type": "code",
   "execution_count": 5,
   "id": "silent-laundry",
   "metadata": {
    "_cell_guid": "79c7e3d0-c299-4dcb-8224-4455121ee9b0",
    "_uuid": "d629ff2d2480ee46fbb7e2d37f6b5fab8052498a",
    "execution": {
     "iopub.execute_input": "2021-06-06T15:55:05.169732Z",
     "iopub.status.busy": "2021-06-06T15:55:05.168732Z",
     "iopub.status.idle": "2021-06-06T15:56:22.834055Z",
     "shell.execute_reply": "2021-06-06T15:56:22.833503Z"
    },
    "papermill": {
     "duration": 77.700846,
     "end_time": "2021-06-06T15:56:22.834234",
     "exception": false,
     "start_time": "2021-06-06T15:55:05.133388",
     "status": "completed"
    },
    "tags": []
   },
   "outputs": [
    {
     "name": "stdout",
     "output_type": "stream",
     "text": [
      "1\n"
     ]
    },
    {
     "name": "stderr",
     "output_type": "stream",
     "text": [
      "C:\\Users\\RenatoCiz\\anaconda3\\lib\\site-packages\\keras\\optimizers\\optimizer_v2\\adam.py:114: UserWarning: The `lr` argument is deprecated, use `learning_rate` instead.\n",
      "  super().__init__(name, **kwargs)\n"
     ]
    }
   ],
   "source": [
    "AUTOTUNE = tf.data.experimental.AUTOTUNE\n",
    "tf.config.optimizer.set_jit(True)\n",
    "\n",
    "print(strategy.num_replicas_in_sync)\n",
    "\n",
    "dataset_id1 = 'covid19-lung-ct-scans'\n",
    "GCS_PATH1 = '.'\n",
    "BATCH_SIZE = 128 * strategy.num_replicas_in_sync\n",
    "\n",
    "CLASSES = ['COVID-19', 'Non-COVID-19']\n",
    "NUM_CLASSES = len(CLASSES)\n",
    "IMAGE_SIZE = [224, 224]\n",
    "input_shape = (224, 224, 3)\n",
    "LOSS = tf.keras.losses.CategoricalCrossentropy(label_smoothing=0.2)\n",
    "\n",
    "METRICS = ['accuracy']\n",
    "\n",
    "Epochs = 1\n",
    "Early_Stop = 1\n",
    "OPTIMIZER = tensorflow.keras.optimizers.Adam(lr = 1e-2, decay = 1e-5)\n",
    "\n",
    "Fine_Tune_Epochs = 100\n",
    "Fine_Tune_Early_Stop = 20\n",
    "Fine_Tune_OPTIMIZER = tensorflow.keras.optimizers.Adam(lr = 1e-3, decay = 1e-6)\n",
    "Fine_Tune_filepath = \"Best-Model-FT.h5\"\n",
    "\n",
    "Callbacks = [\n",
    "    CosineAnnealingScheduler(Epochs, 1e-3, 1e-6),\n",
    "    EarlyStopping(monitor='val_accuracy', patience=Early_Stop, mode='auto', min_delta=0.00001, verbose=2, restore_best_weights=True)]\n",
    "\n",
    "FT_Callbacks = [\n",
    "    ReduceLROnPlateau(monitor='val_loss', factor=0.8, patience=5, verbose=2, mode='min', min_delta=0.0001, cooldown=1, min_lr=1e-6),\n",
    "    ModelCheckpoint(Fine_Tune_filepath, monitor='val_accuracy', verbose=2, save_best_only=True, save_weights_only=False, mode='max'),\n",
    "    EarlyStopping(monitor='val_loss', patience=Fine_Tune_Early_Stop, mode='auto', min_delta=0.00001, verbose=2, restore_best_weights=True)]"
   ]
  },
  {
   "cell_type": "code",
   "execution_count": 6,
   "id": "orange-healing",
   "metadata": {
    "execution": {
     "iopub.execute_input": "2021-06-06T15:56:22.905492Z",
     "iopub.status.busy": "2021-06-06T15:56:22.904656Z",
     "iopub.status.idle": "2021-06-06T15:56:25.563367Z",
     "shell.execute_reply": "2021-06-06T15:56:25.563830Z"
    },
    "papermill": {
     "duration": 2.697073,
     "end_time": "2021-06-06T15:56:25.564042",
     "exception": false,
     "start_time": "2021-06-06T15:56:22.866969",
     "status": "completed"
    },
    "tags": []
   },
   "outputs": [],
   "source": [
    "filenames = tf.io.gfile.glob(str(GCS_PATH1 + '/COVID-19_Lung_CT_Scans/COVID-19/*'))\n",
    "filenames.extend(tf.io.gfile.glob(str(GCS_PATH1 + '/COVID-19_Lung_CT_Scans/Non-COVID-19/*')))\n",
    "\n",
    "random.shuffle(filenames)"
   ]
  },
  {
   "cell_type": "code",
   "execution_count": 7,
   "id": "oriented-collect",
   "metadata": {
    "execution": {
     "iopub.execute_input": "2021-06-06T15:56:25.638121Z",
     "iopub.status.busy": "2021-06-06T15:56:25.637449Z",
     "iopub.status.idle": "2021-06-06T15:56:25.640457Z",
     "shell.execute_reply": "2021-06-06T15:56:25.640953Z"
    },
    "papermill": {
     "duration": 0.045042,
     "end_time": "2021-06-06T15:56:25.641126",
     "exception": false,
     "start_time": "2021-06-06T15:56:25.596084",
     "status": "completed"
    },
    "tags": []
   },
   "outputs": [
    {
     "name": "stdout",
     "output_type": "stream",
     "text": [
      "COVID-19 images count : 100\n",
      "Non-COVID images count : 100\n"
     ]
    }
   ],
   "source": [
    "\n",
    "COUNT_COVID = len([filename for filename in filenames if \"\\\\COVID-19\\\\\" in filename])\n",
    "print(\"COVID-19 images count : \" + str(COUNT_COVID))\n",
    "\n",
    "COUNT_Non_COVID = len([filename for filename in filenames if \"\\\\Non-COVID-19\\\\\" in filename])\n",
    "print(\"Non-COVID images count : \" + str(COUNT_Non_COVID))"
   ]
  },
  {
   "cell_type": "code",
   "execution_count": 8,
   "id": "existing-essex",
   "metadata": {
    "execution": {
     "iopub.execute_input": "2021-06-06T15:56:25.734471Z",
     "iopub.status.busy": "2021-06-06T15:56:25.733785Z",
     "iopub.status.idle": "2021-06-06T15:56:26.114661Z",
     "shell.execute_reply": "2021-06-06T15:56:26.113514Z"
    },
    "papermill": {
     "duration": 0.441165,
     "end_time": "2021-06-06T15:56:26.114930",
     "exception": false,
     "start_time": "2021-06-06T15:56:25.673765",
     "status": "completed"
    },
    "tags": []
   },
   "outputs": [
    {
     "data": {
      "image/png": "[encoded data removed]",
      "text/plain": [
       "<Figure size 720x576 with 1 Axes>"
      ]
     },
     "metadata": {},
     "output_type": "display_data"
    },
    {
     "name": "stdout",
     "output_type": "stream",
     "text": [
      "       Cases  Cases_count\n",
      "0   COVID-19          100\n",
      "1  non-COVID          100\n"
     ]
    }
   ],
   "source": [
    "data = {'Cases':['COVID-19', 'non-COVID'],\n",
    "        'Cases_count':[COUNT_COVID, COUNT_Non_COVID]\n",
    "       }\n",
    "\n",
    "df = pd.DataFrame(data)\n",
    "\n",
    "sns.set(style=\"darkgrid\")\n",
    "plt.figure(figsize=(10,8))\n",
    "sns.barplot(x=df.index, y= df['Cases_count'].values)\n",
    "plt.title('Number of All the Data', fontsize=14)\n",
    "plt.xlabel('Case type', fontsize=12)\n",
    "plt.ylabel('Count', fontsize=12)\n",
    "plt.xticks(range(len(df.index)), ['COVID-19', 'non-COVID'])\n",
    "plt.show()\n",
    "\n",
    "print(df)"
   ]
  },
  {
   "cell_type": "code",
   "execution_count": 9,
   "id": "broadband-barrel",
   "metadata": {
    "execution": {
     "iopub.execute_input": "2021-06-06T15:56:26.192874Z",
     "iopub.status.busy": "2021-06-06T15:56:26.191954Z",
     "iopub.status.idle": "2021-06-06T15:56:26.200223Z",
     "shell.execute_reply": "2021-06-06T15:56:26.199634Z"
    },
    "papermill": {
     "duration": 0.050357,
     "end_time": "2021-06-06T15:56:26.200387",
     "exception": false,
     "start_time": "2021-06-06T15:56:26.150030",
     "status": "completed"
    },
    "tags": []
   },
   "outputs": [],
   "source": [
    "train_filenames, test_filenames = train_test_split(filenames, test_size=0.2)\n",
    "train_filenames, val_filenames = train_test_split(train_filenames, test_size=0.2)"
   ]
  },
  {
   "cell_type": "code",
   "execution_count": 10,
   "id": "undefined-metropolitan",
   "metadata": {
    "execution": {
     "iopub.execute_input": "2021-06-06T15:56:26.271285Z",
     "iopub.status.busy": "2021-06-06T15:56:26.270639Z",
     "iopub.status.idle": "2021-06-06T15:56:26.315297Z",
     "shell.execute_reply": "2021-06-06T15:56:26.314658Z"
    },
    "papermill": {
     "duration": 0.08094,
     "end_time": "2021-06-06T15:56:26.315442",
     "exception": false,
     "start_time": "2021-06-06T15:56:26.234502",
     "status": "completed"
    },
    "tags": []
   },
   "outputs": [],
   "source": [
    "train_list_ds = tf.data.Dataset.from_tensor_slices(train_filenames)\n",
    "val_list_ds = tf.data.Dataset.from_tensor_slices(val_filenames)\n",
    "test_list_ds = tf.data.Dataset.from_tensor_slices(test_filenames)"
   ]
  },
  {
   "cell_type": "code",
   "execution_count": 11,
   "id": "fiscal-palestinian",
   "metadata": {
    "execution": {
     "iopub.execute_input": "2021-06-06T15:56:26.390829Z",
     "iopub.status.busy": "2021-06-06T15:56:26.389996Z",
     "iopub.status.idle": "2021-06-06T15:56:26.400210Z",
     "shell.execute_reply": "2021-06-06T15:56:26.399688Z"
    },
    "papermill": {
     "duration": 0.050758,
     "end_time": "2021-06-06T15:56:26.400370",
     "exception": false,
     "start_time": "2021-06-06T15:56:26.349612",
     "status": "completed"
    },
    "tags": []
   },
   "outputs": [
    {
     "name": "stdout",
     "output_type": "stream",
     "text": [
      "Training images count: 128\n",
      "Validating images count: 32\n",
      "Testing images count: 40\n"
     ]
    }
   ],
   "source": [
    "TRAIN_IMG_COUNT = tf.data.experimental.cardinality(train_list_ds).numpy()\n",
    "print(\"Training images count: \" + str(TRAIN_IMG_COUNT))\n",
    "\n",
    "VAL_IMG_COUNT = tf.data.experimental.cardinality(val_list_ds).numpy()\n",
    "print(\"Validating images count: \" + str(VAL_IMG_COUNT))\n",
    "\n",
    "Test_IMG_COUNT = tf.data.experimental.cardinality(test_list_ds).numpy()\n",
    "print(\"Testing images count: \" + str(Test_IMG_COUNT))"
   ]
  },
  {
   "cell_type": "code",
   "execution_count": 12,
   "id": "congressional-albuquerque",
   "metadata": {
    "execution": {
     "iopub.execute_input": "2021-06-06T15:56:26.472048Z",
     "iopub.status.busy": "2021-06-06T15:56:26.471397Z",
     "iopub.status.idle": "2021-06-06T15:56:26.475525Z",
     "shell.execute_reply": "2021-06-06T15:56:26.476023Z"
    },
    "papermill": {
     "duration": 0.041641,
     "end_time": "2021-06-06T15:56:26.476226",
     "exception": false,
     "start_time": "2021-06-06T15:56:26.434585",
     "status": "completed"
    },
    "tags": []
   },
   "outputs": [],
   "source": [
    "def get_label(file_path):\n",
    "    parts = tf.strings.split(file_path, os.path.sep)\n",
    "    return int(parts[-2] == CLASSES)"
   ]
  },
  {
   "cell_type": "code",
   "execution_count": 13,
   "id": "forty-professional",
   "metadata": {
    "execution": {
     "iopub.execute_input": "2021-06-06T15:56:26.550824Z",
     "iopub.status.busy": "2021-06-06T15:56:26.550110Z",
     "iopub.status.idle": "2021-06-06T15:56:26.553099Z",
     "shell.execute_reply": "2021-06-06T15:56:26.553595Z"
    },
    "papermill": {
     "duration": 0.04266,
     "end_time": "2021-06-06T15:56:26.553776",
     "exception": false,
     "start_time": "2021-06-06T15:56:26.511116",
     "status": "completed"
    },
    "tags": []
   },
   "outputs": [],
   "source": [
    "def decode_img(img):\n",
    "    img = tf.image.decode_png(img, channels=3)\n",
    "    img = tf.image.convert_image_dtype(img, tf.float32)\n",
    "    return tf.image.resize(img, IMAGE_SIZE)"
   ]
  },
  {
   "cell_type": "code",
   "execution_count": 14,
   "id": "equivalent-hardware",
   "metadata": {
    "execution": {
     "iopub.execute_input": "2021-06-06T15:56:26.627693Z",
     "iopub.status.busy": "2021-06-06T15:56:26.626998Z",
     "iopub.status.idle": "2021-06-06T15:56:26.629638Z",
     "shell.execute_reply": "2021-06-06T15:56:26.630064Z"
    },
    "papermill": {
     "duration": 0.041856,
     "end_time": "2021-06-06T15:56:26.630254",
     "exception": false,
     "start_time": "2021-06-06T15:56:26.588398",
     "status": "completed"
    },
    "tags": []
   },
   "outputs": [],
   "source": [
    "def process_path(file_path):\n",
    "    label = get_label(file_path)\n",
    "    img = tf.io.read_file(file_path)\n",
    "    img = decode_img(img)\n",
    "    return img, label"
   ]
  },
  {
   "cell_type": "code",
   "execution_count": 15,
   "id": "characteristic-postage",
   "metadata": {
    "execution": {
     "iopub.execute_input": "2021-06-06T15:56:26.719456Z",
     "iopub.status.busy": "2021-06-06T15:56:26.710690Z",
     "iopub.status.idle": "2021-06-06T15:56:27.003441Z",
     "shell.execute_reply": "2021-06-06T15:56:27.002820Z"
    },
    "papermill": {
     "duration": 0.338901,
     "end_time": "2021-06-06T15:56:27.003608",
     "exception": false,
     "start_time": "2021-06-06T15:56:26.664707",
     "status": "completed"
    },
    "tags": []
   },
   "outputs": [],
   "source": [
    "train_ds = train_list_ds.map(process_path, num_parallel_calls=AUTOTUNE)\n",
    "val_ds = val_list_ds.map(process_path, num_parallel_calls=AUTOTUNE)\n",
    "test_ds = test_list_ds.map(process_path, num_parallel_calls=AUTOTUNE)"
   ]
  },
  {
   "cell_type": "code",
   "execution_count": 16,
   "id": "appreciated-wrist",
   "metadata": {
    "execution": {
     "iopub.execute_input": "2021-06-06T15:56:27.079362Z",
     "iopub.status.busy": "2021-06-06T15:56:27.078361Z",
     "iopub.status.idle": "2021-06-06T15:56:27.081886Z",
     "shell.execute_reply": "2021-06-06T15:56:27.081226Z"
    },
    "papermill": {
     "duration": 0.043784,
     "end_time": "2021-06-06T15:56:27.082030",
     "exception": false,
     "start_time": "2021-06-06T15:56:27.038246",
     "status": "completed"
    },
    "tags": []
   },
   "outputs": [],
   "source": [
    "def prepare_for_training(ds, cache=True):\n",
    "    ds = ds.shuffle(buffer_size=1000)\n",
    "    ds = ds.batch(BATCH_SIZE)\n",
    "\n",
    "    if cache:\n",
    "        ds = ds.prefetch(buffer_size=AUTOTUNE)\n",
    "\n",
    "    return ds"
   ]
  },
  {
   "cell_type": "code",
   "execution_count": 17,
   "id": "technical-delaware",
   "metadata": {
    "execution": {
     "iopub.execute_input": "2021-06-06T15:56:27.158334Z",
     "iopub.status.busy": "2021-06-06T15:56:27.157306Z",
     "iopub.status.idle": "2021-06-06T15:56:27.171540Z",
     "shell.execute_reply": "2021-06-06T15:56:27.172104Z"
    },
    "papermill": {
     "duration": 0.055468,
     "end_time": "2021-06-06T15:56:27.172304",
     "exception": false,
     "start_time": "2021-06-06T15:56:27.116836",
     "status": "completed"
    },
    "tags": []
   },
   "outputs": [],
   "source": [
    "train_ds = prepare_for_training(train_ds)\n",
    "val_ds = prepare_for_training(val_ds)\n",
    "test_ds = prepare_for_training(test_ds, False)"
   ]
  },
  {
   "cell_type": "code",
   "execution_count": 18,
   "id": "blocked-portrait",
   "metadata": {
    "execution": {
     "iopub.execute_input": "2021-06-06T15:56:27.247183Z",
     "iopub.status.busy": "2021-06-06T15:56:27.246534Z",
     "iopub.status.idle": "2021-06-06T15:56:27.263737Z",
     "shell.execute_reply": "2021-06-06T15:56:27.264281Z"
    },
    "papermill": {
     "duration": 0.057153,
     "end_time": "2021-06-06T15:56:27.264491",
     "exception": false,
     "start_time": "2021-06-06T15:56:27.207338",
     "status": "completed"
    },
    "tags": []
   },
   "outputs": [],
   "source": [
    "img_augmentation = Sequential([\n",
    "    preprocessing.RandomFlip(\"horizontal\"),\n",
    "    preprocessing.RandomContrast(factor=0.20)\n",
    "    ],name=\"Augmentation\")"
   ]
  },
  {
   "cell_type": "code",
   "execution_count": 19,
   "id": "joined-antibody",
   "metadata": {
    "execution": {
     "iopub.execute_input": "2021-06-06T15:56:27.336428Z",
     "iopub.status.busy": "2021-06-06T15:56:27.335708Z",
     "iopub.status.idle": "2021-06-06T15:56:27.341937Z",
     "shell.execute_reply": "2021-06-06T15:56:27.341385Z"
    },
    "papermill": {
     "duration": 0.043255,
     "end_time": "2021-06-06T15:56:27.342079",
     "exception": false,
     "start_time": "2021-06-06T15:56:27.298824",
     "status": "completed"
    },
    "tags": []
   },
   "outputs": [],
   "source": [
    "def show_batch(image_batch, label_batch):\n",
    "    plt.figure(figsize=(10,10))\n",
    "    for n in range(15):\n",
    "        ax = plt.subplot(5,5,n+1)\n",
    "        plt.imshow(image_batch[n])\n",
    "        plt.title(CLASSES[np.argmax(label_batch[n])])\n",
    "        plt.axis(\"off\")"
   ]
  },
  {
   "cell_type": "code",
   "execution_count": 20,
   "id": "organic-commitment",
   "metadata": {
    "execution": {
     "iopub.execute_input": "2021-06-06T15:56:27.414439Z",
     "iopub.status.busy": "2021-06-06T15:56:27.413746Z",
     "iopub.status.idle": "2021-06-06T15:57:35.867807Z",
     "shell.execute_reply": "2021-06-06T15:57:35.868327Z"
    },
    "papermill": {
     "duration": 68.49202,
     "end_time": "2021-06-06T15:57:35.868505",
     "exception": false,
     "start_time": "2021-06-06T15:56:27.376485",
     "status": "completed"
    },
    "tags": []
   },
   "outputs": [
    {
     "data": {
      "image/png": "[encoded data removed]",
      "text/plain": [
       "<Figure size 720x720 with 15 Axes>"
      ]
     },
     "metadata": {},
     "output_type": "display_data"
    }
   ],
   "source": [
    "image_batch, label_batch = next(iter(train_ds))\n",
    "show_batch(image_batch.numpy(), label_batch.numpy())"
   ]
  },
  {
   "cell_type": "code",
   "execution_count": 21,
   "id": "behind-northwest",
   "metadata": {
    "execution": {
     "iopub.execute_input": "2021-06-06T15:57:35.955878Z",
     "iopub.status.busy": "2021-06-06T15:57:35.955247Z",
     "iopub.status.idle": "2021-06-06T15:58:26.778166Z",
     "shell.execute_reply": "2021-06-06T15:58:26.778690Z"
    },
    "papermill": {
     "duration": 50.870764,
     "end_time": "2021-06-06T15:58:26.778869",
     "exception": false,
     "start_time": "2021-06-06T15:57:35.908105",
     "status": "completed"
    },
    "tags": []
   },
   "outputs": [
    {
     "name": "stdout",
     "output_type": "stream",
     "text": [
      "Evaluation Dataset:\n",
      "X shape:  (40, 224, 224, 3)  Y shape:  (40, 2)\n"
     ]
    }
   ],
   "source": [
    "def dataset_to_numpy_util(dataset, N):\n",
    "    dataset = dataset.unbatch().batch(N)\n",
    "    for images, labels in dataset:\n",
    "        numpy_images = images.numpy()\n",
    "        numpy_labels = labels.numpy()\n",
    "        break\n",
    "    return numpy_images, numpy_labels\n",
    "\n",
    "x_test, y_test = dataset_to_numpy_util(test_ds, Test_IMG_COUNT)\n",
    "\n",
    "print(\"Evaluation Dataset:\")\n",
    "print('X shape: ', x_test.shape,' Y shape: ', y_test.shape)"
   ]
  },
  {
   "cell_type": "code",
   "execution_count": 22,
   "id": "thrown-expense",
   "metadata": {
    "execution": {
     "iopub.execute_input": "2021-06-06T15:58:26.865726Z",
     "iopub.status.busy": "2021-06-06T15:58:26.864728Z",
     "iopub.status.idle": "2021-06-06T15:58:26.867926Z",
     "shell.execute_reply": "2021-06-06T15:58:26.867417Z"
    },
    "papermill": {
     "duration": 0.04966,
     "end_time": "2021-06-06T15:58:26.868074",
     "exception": false,
     "start_time": "2021-06-06T15:58:26.818414",
     "status": "completed"
    },
    "tags": []
   },
   "outputs": [],
   "source": [
    "def weight_classes(extra_weight=False, ew_value=1):\n",
    "    total_COUNT = COUNT_COVID + COUNT_Non_COVID\n",
    "\n",
    "    weight_for_0 = (1 / COUNT_COVID) * total_COUNT / 2.0 \n",
    "    weight_for_1 = (1 / COUNT_Non_COVID) * total_COUNT / 2.0\n",
    "    \n",
    "    if extra_weight:\n",
    "        weight_for_1 *= ew_value\n",
    "\n",
    "    class_weight = {0: weight_for_0, 1: weight_for_1}\n",
    "\n",
    "    print(f'Weight for class 0: {weight_for_0}')\n",
    "    print(f'Weight for class 1: {weight_for_1}')\n",
    "    \n",
    "    return class_weight"
   ]
  },
  {
   "cell_type": "code",
   "execution_count": 23,
   "id": "deluxe-student",
   "metadata": {
    "execution": {
     "iopub.execute_input": "2021-06-06T15:58:26.953482Z",
     "iopub.status.busy": "2021-06-06T15:58:26.952650Z",
     "iopub.status.idle": "2021-06-06T15:58:26.957079Z",
     "shell.execute_reply": "2021-06-06T15:58:26.956567Z"
    },
    "papermill": {
     "duration": 0.049494,
     "end_time": "2021-06-06T15:58:26.957237",
     "exception": false,
     "start_time": "2021-06-06T15:58:26.907743",
     "status": "completed"
    },
    "tags": []
   },
   "outputs": [
    {
     "name": "stdout",
     "output_type": "stream",
     "text": [
      "Weight for class 0: 1.0\n",
      "Weight for class 1: 1.0\n"
     ]
    }
   ],
   "source": [
    "class_weight = weight_classes(extra_weight=False, ew_value=1.5)"
   ]
  },
  {
   "cell_type": "code",
   "execution_count": 29,
   "id": "instant-going",
   "metadata": {
    "execution": {
     "iopub.execute_input": "2021-06-06T15:58:27.047652Z",
     "iopub.status.busy": "2021-06-06T15:58:27.046937Z",
     "iopub.status.idle": "2021-06-06T15:58:27.048885Z",
     "shell.execute_reply": "2021-06-06T15:58:27.049368Z"
    },
    "papermill": {
     "duration": 0.05206,
     "end_time": "2021-06-06T15:58:27.049557",
     "exception": false,
     "start_time": "2021-06-06T15:58:26.997497",
     "status": "completed"
    },
    "tags": []
   },
   "outputs": [],
   "source": [
    "def build_model(OPTIMIZER, LOSS, METRICS):\n",
    "    model = None\n",
    "    inputs = layers.Input(shape=input_shape)\n",
    "    x = img_augmentation(inputs)\n",
    "    baseModel = NETWORK(include_top=False, input_tensor=x, weights=\"imagenet\", pooling ='avg')\n",
    "\n",
    "    baseModel.trainable = False\n",
    "\n",
    "    x = BatchNormalization(axis = -1, name=\"Batch-Normalization-1\")(baseModel.output)\n",
    "    x = Dense(512, activation='relu', kernel_regularizer=regularizers.L1L2(l1=1e-5, l2=1e-4))(x)\n",
    "    x = BatchNormalization(axis = -1, name=\"Batch-Normalization-2\")(x)\n",
    "    x = Dropout(.2, name=\"Dropout-1\")(x)\n",
    "\n",
    "    x = Dense(256, activation='relu')(x)\n",
    "    x = BatchNormalization(axis = -1, name=\"Batch-Normalization-3\")(x)\n",
    "    \n",
    "    outputs = Dense(NUM_CLASSES, activation=\"softmax\", name=\"Classifier\")(x)\n",
    "    model = tf.keras.Model(inputs=baseModel.input, outputs=outputs, name=\"Deep-COVID\")\n",
    "    \n",
    "    model.compile(optimizer = OPTIMIZER, loss = LOSS, metrics = METRICS)\n",
    "    \n",
    "    last_conv_layer = baseModel.get_layer('YOUR_LAST_CONV_LAYER_NAME')\n",
    "    grad_model = Model([model.inputs], [last_conv_layer.output, model.output])\n",
    "\n",
    "        \n",
    "    return model, grad_model"
   ]
  },
  {
   "cell_type": "code",
   "execution_count": 28,
   "id": "2213a912",
   "metadata": {},
   "outputs": [],
   "source": [
    " # Add Grad-CAM to the model\n",
    "def make_gradcam_heatmap(img_array, model, last_conv_layer_name, pred_index=None):\n",
    "        # Create a tensor from the input image\n",
    "        img_tensor = tf.convert_to_tensor(img_array)\n",
    "        img_tensor = tf.expand_dims(img_tensor, 0)\n",
    "\n",
    "        # Get the predicted class (if not provided)\n",
    "        if pred_index is None:\n",
    "            preds = model.predict(img_tensor)\n",
    "            pred_index = tf.argmax(preds[0])\n",
    "\n",
    "        # Get the last convolutional layer and the model output\n",
    "        last_conv_layer = model.get_layer(last_conv_layer_name)\n",
    "        conv_output, pred = grad_model(img_tensor)\n",
    "\n",
    "        # Get the gradient of the predicted class with respect to the output feature map\n",
    "        grads = tf.gradients(pred[:, pred_index], conv_output)[0]\n",
    "\n",
    "        # Compute the mean intensity of the gradient over each feature map\n",
    "        pooled_grads = tf.reduce_mean(grads, axis=(0, 1, 2))\n",
    "\n",
    "        # Multiply each feature map by its corresponding gradient value\n",
    "        cam = tf.reduce_sum(tf.multiply(pooled_grads, conv_output), axis=-1)\n",
    "\n",
    "        # Normalize the heatmap\n",
    "        cam = tf.maximum(cam, 0)\n",
    "        cam = cam / tf.reduce_max(cam)\n",
    "\n",
    "        return cam.numpy()\n"
   ]
  },
  {
   "cell_type": "code",
   "execution_count": 27,
   "id": "portable-mapping",
   "metadata": {
    "execution": {
     "iopub.execute_input": "2021-06-06T15:58:27.142505Z",
     "iopub.status.busy": "2021-06-06T15:58:27.141823Z",
     "iopub.status.idle": "2021-06-06T15:59:01.364591Z",
     "shell.execute_reply": "2021-06-06T15:59:01.363946Z"
    },
    "papermill": {
     "duration": 34.274471,
     "end_time": "2021-06-06T15:59:01.364746",
     "exception": false,
     "start_time": "2021-06-06T15:58:27.090275",
     "status": "completed"
    },
    "tags": []
   },
   "outputs": [
    {
     "ename": "NameError",
     "evalue": "name 'L1L2' is not defined",
     "output_type": "error",
     "traceback": [
      "\u001b[1;31m---------------------------------------------------------------------------\u001b[0m",
      "\u001b[1;31mNameError\u001b[0m                                 Traceback (most recent call last)",
      "Input \u001b[1;32mIn [27]\u001b[0m, in \u001b[0;36m<cell line: 1>\u001b[1;34m()\u001b[0m\n\u001b[0;32m      1\u001b[0m \u001b[38;5;28;01mwith\u001b[39;00m strategy\u001b[38;5;241m.\u001b[39mscope():\n\u001b[1;32m----> 2\u001b[0m     model \u001b[38;5;241m=\u001b[39m \u001b[43mbuild_model\u001b[49m\u001b[43m(\u001b[49m\u001b[43mOPTIMIZER\u001b[49m\u001b[43m,\u001b[49m\u001b[43m \u001b[49m\u001b[43mLOSS\u001b[49m\u001b[43m,\u001b[49m\u001b[43m \u001b[49m\u001b[43mMETRICS\u001b[49m\u001b[43m)\u001b[49m\n",
      "Input \u001b[1;32mIn [24]\u001b[0m, in \u001b[0;36mbuild_model\u001b[1;34m(OPTIMIZER, LOSS, METRICS)\u001b[0m\n\u001b[0;32m     21\u001b[0m x \u001b[38;5;241m=\u001b[39m baseModel\u001b[38;5;241m.\u001b[39moutput\n\u001b[0;32m     22\u001b[0m x \u001b[38;5;241m=\u001b[39m layers\u001b[38;5;241m.\u001b[39mBatchNormalization(axis\u001b[38;5;241m=\u001b[39m\u001b[38;5;241m-\u001b[39m\u001b[38;5;241m1\u001b[39m, name\u001b[38;5;241m=\u001b[39m\u001b[38;5;124m\"\u001b[39m\u001b[38;5;124mBatch-Normalization-1\u001b[39m\u001b[38;5;124m\"\u001b[39m)(x)\n\u001b[1;32m---> 23\u001b[0m x \u001b[38;5;241m=\u001b[39m layers\u001b[38;5;241m.\u001b[39mDense(\u001b[38;5;241m512\u001b[39m, activation\u001b[38;5;241m=\u001b[39m\u001b[38;5;124m'\u001b[39m\u001b[38;5;124mrelu\u001b[39m\u001b[38;5;124m'\u001b[39m, kernel_regularizer\u001b[38;5;241m=\u001b[39m\u001b[43mL1L2\u001b[49m(l1\u001b[38;5;241m=\u001b[39m\u001b[38;5;241m1e-5\u001b[39m, l2\u001b[38;5;241m=\u001b[39m\u001b[38;5;241m1e-4\u001b[39m))(x)\n\u001b[0;32m     24\u001b[0m x \u001b[38;5;241m=\u001b[39m layers\u001b[38;5;241m.\u001b[39mBatchNormalization(axis\u001b[38;5;241m=\u001b[39m\u001b[38;5;241m-\u001b[39m\u001b[38;5;241m1\u001b[39m, name\u001b[38;5;241m=\u001b[39m\u001b[38;5;124m\"\u001b[39m\u001b[38;5;124mBatch-Normalization-2\u001b[39m\u001b[38;5;124m\"\u001b[39m)(x)\n\u001b[0;32m     25\u001b[0m x \u001b[38;5;241m=\u001b[39m layers\u001b[38;5;241m.\u001b[39mDropout(\u001b[38;5;241m.2\u001b[39m, name\u001b[38;5;241m=\u001b[39m\u001b[38;5;124m\"\u001b[39m\u001b[38;5;124mDropout-1\u001b[39m\u001b[38;5;124m\"\u001b[39m)(x)\n",
      "\u001b[1;31mNameError\u001b[0m: name 'L1L2' is not defined"
     ]
    }
   ],
   "source": [
    "with strategy.scope():\n",
    "    model = build_model(OPTIMIZER, LOSS, METRICS)"
   ]
  },
  {
   "cell_type": "code",
   "execution_count": null,
   "id": "planned-continent",
   "metadata": {
    "execution": {
     "iopub.execute_input": "2021-06-06T15:59:01.469473Z",
     "iopub.status.busy": "2021-06-06T15:59:01.468684Z",
     "iopub.status.idle": "2021-06-06T18:00:41.269276Z",
     "shell.execute_reply": "2021-06-06T18:00:41.269771Z"
    },
    "papermill": {
     "duration": 7299.859522,
     "end_time": "2021-06-06T18:00:41.270567",
     "exception": false,
     "start_time": "2021-06-06T15:59:01.411045",
     "status": "completed"
    },
    "tags": []
   },
   "outputs": [],
   "source": [
    "def fit_model(Epochs, Callbacks, class_weight=None):\n",
    "    history = model.fit(\n",
    "        train_ds,\n",
    "        validation_data=val_ds,\n",
    "        epochs=Epochs,\n",
    "        callbacks=Callbacks,\n",
    "        verbose=2,\n",
    "        class_weight=class_weight\n",
    "    )\n",
    "    return history\n",
    "    \n",
    "history = fit_model(Epochs, Callbacks, class_weight=class_weight)"
   ]
  },
  {
   "cell_type": "code",
   "execution_count": null,
   "id": "serious-motivation",
   "metadata": {
    "execution": {
     "iopub.execute_input": "2021-06-06T18:00:41.446625Z",
     "iopub.status.busy": "2021-06-06T18:00:41.445906Z",
     "iopub.status.idle": "2021-06-06T18:00:41.907899Z",
     "shell.execute_reply": "2021-06-06T18:00:41.908406Z"
    },
    "papermill": {
     "duration": 0.564783,
     "end_time": "2021-06-06T18:00:41.908578",
     "exception": false,
     "start_time": "2021-06-06T18:00:41.343795",
     "status": "completed"
    },
    "tags": []
   },
   "outputs": [],
   "source": [
    "def Plot_Learning_Curves():\n",
    "    acc = history.history['accuracy']\n",
    "    val_acc = history.history['val_accuracy']\n",
    "    \n",
    "    loss = history.history['loss']\n",
    "    val_loss = history.history['val_loss']\n",
    "    \n",
    "    sns.set(style=\"dark\")\n",
    "    plt.rcParams['figure.figsize'] = (14, 5)\n",
    "\n",
    "    plt.subplot(1,2,1)\n",
    "    plt.plot(loss, label='Training loss')\n",
    "    plt.plot(val_loss, linestyle=\"--\", label='Validation loss')\n",
    "    plt.title('Training and validation loss')\n",
    "    plt.ylabel('Loss') \n",
    "    plt.xlabel('Epoch')\n",
    "    plt.legend()\n",
    "\n",
    "    plt.subplot(1,2,2)\n",
    "    plt.plot(acc, label='Training Accuracy')\n",
    "    plt.plot(val_acc, linestyle=\"--\", label='Validation Accuracy')\n",
    "    plt.title('Training and validation accuracy')\n",
    "    plt.ylabel('Accuracy') \n",
    "    plt.xlabel('Epoch')\n",
    "    plt.legend()\n",
    "\n",
    "    plt.show()\n",
    "    \n",
    "Plot_Learning_Curves()"
   ]
  },
  {
   "cell_type": "code",
   "execution_count": null,
   "id": "blank-glossary",
   "metadata": {
    "execution": {
     "iopub.execute_input": "2021-06-06T18:00:42.067372Z",
     "iopub.status.busy": "2021-06-06T18:00:42.066697Z",
     "iopub.status.idle": "2021-06-06T18:01:35.291307Z",
     "shell.execute_reply": "2021-06-06T18:01:35.290793Z"
    },
    "papermill": {
     "duration": 53.306905,
     "end_time": "2021-06-06T18:01:35.291462",
     "exception": false,
     "start_time": "2021-06-06T18:00:41.984557",
     "status": "completed"
    },
    "tags": []
   },
   "outputs": [],
   "source": [
    "def evaluate_model(model):\n",
    "    results = model.evaluate(test_ds, return_dict=True)\n",
    "    print ('\\nModel Evaluation:')\n",
    "    print(results['accuracy']*100)\n",
    "    return results\n",
    "    \n",
    "results = evaluate_model(model)"
   ]
  },
  {
   "cell_type": "code",
   "execution_count": null,
   "id": "varying-colombia",
   "metadata": {
    "execution": {
     "iopub.execute_input": "2021-06-06T18:01:35.450548Z",
     "iopub.status.busy": "2021-06-06T18:01:35.449714Z",
     "iopub.status.idle": "2021-06-06T18:01:35.454564Z",
     "shell.execute_reply": "2021-06-06T18:01:35.453889Z"
    },
    "papermill": {
     "duration": 0.08721,
     "end_time": "2021-06-06T18:01:35.454713",
     "exception": false,
     "start_time": "2021-06-06T18:01:35.367503",
     "status": "completed"
    },
    "tags": []
   },
   "outputs": [],
   "source": [
    "def fine_tune(OPTIMIZER, LOSS, METRICS):\n",
    "    for layer in model.layers[-54:]:\n",
    "        if not isinstance(layer, BatchNormalization):\n",
    "            layer.trainable = True\n",
    "            \n",
    "    model.compile(optimizer = Fine_Tune_OPTIMIZER, loss = LOSS, metrics = METRICS)\n",
    "    return model"
   ]
  },
  {
   "cell_type": "code",
   "execution_count": null,
   "id": "distant-friendship",
   "metadata": {
    "execution": {
     "iopub.execute_input": "2021-06-06T18:01:35.625758Z",
     "iopub.status.busy": "2021-06-06T18:01:35.620493Z",
     "iopub.status.idle": "2021-06-06T18:01:35.667561Z",
     "shell.execute_reply": "2021-06-06T18:01:35.666916Z"
    },
    "papermill": {
     "duration": 0.136763,
     "end_time": "2021-06-06T18:01:35.667713",
     "exception": false,
     "start_time": "2021-06-06T18:01:35.530950",
     "status": "completed"
    },
    "tags": []
   },
   "outputs": [],
   "source": [
    "with strategy.scope():\n",
    "    model = fine_tune(Fine_Tune_OPTIMIZER, LOSS, METRICS)"
   ]
  },
  {
   "cell_type": "code",
   "execution_count": null,
   "id": "golden-endorsement",
   "metadata": {
    "execution": {
     "iopub.execute_input": "2021-06-06T18:01:35.834386Z",
     "iopub.status.busy": "2021-06-06T18:01:35.833009Z",
     "iopub.status.idle": "2021-06-06T22:04:09.206245Z",
     "shell.execute_reply": "2021-06-06T22:04:09.205625Z"
    },
    "papermill": {
     "duration": 14553.462679,
     "end_time": "2021-06-06T22:04:09.206462",
     "exception": false,
     "start_time": "2021-06-06T18:01:35.743783",
     "status": "completed"
    },
    "tags": []
   },
   "outputs": [],
   "source": [
    "history = fit_model(Fine_Tune_Epochs, FT_Callbacks, class_weight=class_weight)"
   ]
  },
  {
   "cell_type": "code",
   "execution_count": null,
   "id": "sufficient-factor",
   "metadata": {
    "execution": {
     "iopub.execute_input": "2021-06-06T22:04:09.550097Z",
     "iopub.status.busy": "2021-06-06T22:04:09.549071Z",
     "iopub.status.idle": "2021-06-06T22:05:14.363185Z",
     "shell.execute_reply": "2021-06-06T22:05:14.362566Z"
    },
    "papermill": {
     "duration": 64.992853,
     "end_time": "2021-06-06T22:05:14.363352",
     "exception": false,
     "start_time": "2021-06-06T22:04:09.370499",
     "status": "completed"
    },
    "tags": []
   },
   "outputs": [],
   "source": [
    "model = load_model(Fine_Tune_filepath)\n",
    "\n",
    "results = model.evaluate(test_ds, return_dict=True)\n",
    "print ('\\nModel Evaluation:')\n",
    "print(results['accuracy']*100)"
   ]
  },
  {
   "cell_type": "code",
   "execution_count": null,
   "id": "alternative-interest",
   "metadata": {
    "execution": {
     "iopub.execute_input": "2021-06-06T22:05:14.700776Z",
     "iopub.status.busy": "2021-06-06T22:05:14.699788Z",
     "iopub.status.idle": "2021-06-06T22:05:14.703146Z",
     "shell.execute_reply": "2021-06-06T22:05:14.702632Z"
    },
    "papermill": {
     "duration": 0.174201,
     "end_time": "2021-06-06T22:05:14.703309",
     "exception": false,
     "start_time": "2021-06-06T22:05:14.529108",
     "status": "completed"
    },
    "tags": []
   },
   "outputs": [],
   "source": [
    "# if not TPU_accelerator:\n",
    "#     tf.keras.mixed_precision.set_global_policy('float32')"
   ]
  },
  {
   "cell_type": "code",
   "execution_count": null,
   "id": "tired-cinema",
   "metadata": {
    "execution": {
     "iopub.execute_input": "2021-06-06T22:05:15.045985Z",
     "iopub.status.busy": "2021-06-06T22:05:15.044985Z",
     "iopub.status.idle": "2021-06-06T22:05:58.620453Z",
     "shell.execute_reply": "2021-06-06T22:05:58.620948Z"
    },
    "papermill": {
     "duration": 43.752459,
     "end_time": "2021-06-06T22:05:58.621122",
     "exception": false,
     "start_time": "2021-06-06T22:05:14.868663",
     "status": "completed"
    },
    "tags": []
   },
   "outputs": [],
   "source": [
    "preds = model.predict(x_test)\n",
    "print('Shape of preds: ', preds.shape)\n",
    "plt.figure(figsize = (12, 12))\n",
    "\n",
    "R = np.random.choice(preds.shape[0])\n",
    "\n",
    "for i in range(25):\n",
    "    plt.subplot(5, 5, i + 1)\n",
    "    plt.grid(False)\n",
    "    plt.xticks([])\n",
    "    plt.yticks([])\n",
    "    R = np.random.choice(preds.shape[0])\n",
    "    pred = np.argmax(preds[R])\n",
    "    actual = np.argmax(y_test[R])\n",
    "    col = 'g'\n",
    "    if pred != actual:\n",
    "        col = 'r'\n",
    "    plt.xlabel('I={} | P={} | L={}'.format(R, pred, actual), color = col)\n",
    "    plt.imshow(((x_test[R]* 255).astype(np.uint8)), cmap='binary')\n",
    "plt.show()"
   ]
  },
  {
   "cell_type": "code",
   "execution_count": null,
   "id": "absent-mayor",
   "metadata": {
    "execution": {
     "iopub.execute_input": "2021-06-06T22:05:58.984871Z",
     "iopub.status.busy": "2021-06-06T22:05:58.983418Z",
     "iopub.status.idle": "2021-06-06T22:05:59.187486Z",
     "shell.execute_reply": "2021-06-06T22:05:59.186824Z"
    },
    "papermill": {
     "duration": 0.387122,
     "end_time": "2021-06-06T22:05:59.187628",
     "exception": false,
     "start_time": "2021-06-06T22:05:58.800506",
     "status": "completed"
    },
    "tags": []
   },
   "outputs": [],
   "source": [
    "index = 0\n",
    "plt.rcParams['figure.figsize'] = (6, 4)\n",
    "plt.plot(preds[index])\n",
    "sns.set(style=\"darkgrid\")\n",
    "plt.show()"
   ]
  },
  {
   "cell_type": "code",
   "execution_count": null,
   "id": "terminal-notebook",
   "metadata": {
    "execution": {
     "iopub.execute_input": "2021-06-06T22:05:59.555455Z",
     "iopub.status.busy": "2021-06-06T22:05:59.554783Z",
     "iopub.status.idle": "2021-06-06T22:05:59.575327Z",
     "shell.execute_reply": "2021-06-06T22:05:59.574780Z"
    },
    "papermill": {
     "duration": 0.207095,
     "end_time": "2021-06-06T22:05:59.575476",
     "exception": false,
     "start_time": "2021-06-06T22:05:59.368381",
     "status": "completed"
    },
    "tags": []
   },
   "outputs": [],
   "source": [
    "categories = ['COVID-19', 'Non-COVID-19']\n",
    "preds = np.round(preds,0)\n",
    "class_metrics = metrics.classification_report(y_test, preds, target_names = categories, zero_division = 0)\n",
    "print (class_metrics)"
   ]
  },
  {
   "cell_type": "code",
   "execution_count": null,
   "id": "loving-plaintiff",
   "metadata": {
    "execution": {
     "iopub.execute_input": "2021-06-06T22:05:59.941162Z",
     "iopub.status.busy": "2021-06-06T22:05:59.940169Z",
     "iopub.status.idle": "2021-06-06T22:06:00.481281Z",
     "shell.execute_reply": "2021-06-06T22:06:00.480622Z"
    },
    "papermill": {
     "duration": 0.725297,
     "end_time": "2021-06-06T22:06:00.481426",
     "exception": false,
     "start_time": "2021-06-06T22:05:59.756129",
     "status": "completed"
    },
    "tags": []
   },
   "outputs": [],
   "source": [
    "matrix = metrics.confusion_matrix(y_test.argmax(axis=1), preds.argmax(axis=1))\n",
    "\n",
    "def plot_confusion_matrix(cm,\n",
    "                          target_names,\n",
    "                          title='Confusion matrix',\n",
    "                          cmap=None,\n",
    "                          normalize=True):\n",
    "\n",
    "    accuracy = np.trace(cm) / float(np.sum(cm))\n",
    "    misclass = 1 - accuracy\n",
    "    sns.set(style=\"dark\")\n",
    "    if cmap is None:\n",
    "        cmap = plt.get_cmap('Blues')\n",
    "\n",
    "    plt.figure(figsize=(8, 6))\n",
    "    plt.imshow(cm, interpolation='nearest', cmap=cmap)\n",
    "    plt.title(title)\n",
    "    plt.colorbar()\n",
    "\n",
    "    if target_names is not None:\n",
    "        tick_marks = np.arange(len(target_names))\n",
    "        plt.xticks(tick_marks, target_names, rotation=45)\n",
    "        plt.yticks(tick_marks, target_names)\n",
    "\n",
    "    if normalize:\n",
    "        cm = cm.astype('float') / cm.sum(axis=1)[:, np.newaxis]\n",
    "\n",
    "\n",
    "    thresh = cm.max() / 1.5 if normalize else cm.max() / 2\n",
    "    for i, j in itertools.product(range(cm.shape[0]), range(cm.shape[1])):\n",
    "        if normalize:\n",
    "            plt.text(j, i, \"{:0.4f}\".format(cm[i, j]),\n",
    "                     horizontalalignment=\"center\",\n",
    "                     color=\"white\" if cm[i, j] > thresh else \"black\")\n",
    "        else:\n",
    "            plt.text(j, i, \"{:,}\".format(cm[i, j]),\n",
    "                     horizontalalignment=\"center\",\n",
    "                     color=\"white\" if cm[i, j] > thresh else \"black\")\n",
    "\n",
    "\n",
    "    plt.tight_layout()\n",
    "    plt.ylabel('True label')\n",
    "    plt.xlabel('Predicted label\\n Accuracy={:0.4f}; Misclass={:0.4f}'.format(accuracy, misclass))\n",
    "    plt.show()\n",
    "    \n",
    "plot_confusion_matrix(cm           = np.array(matrix), \n",
    "                      normalize    = False,\n",
    "                      target_names = categories,\n",
    "                      title        = \"Confusion Matrix\")\n",
    "\n",
    "plot_confusion_matrix(cm           = np.array(matrix), \n",
    "                      normalize    = True,\n",
    "                      target_names = categories,\n",
    "                      title        = \"Confusion Matrix, Normalized\")"
   ]
  },
  {
   "cell_type": "code",
   "execution_count": null,
   "id": "after-nowhere",
   "metadata": {
    "execution": {
     "iopub.execute_input": "2021-06-06T22:06:00.853076Z",
     "iopub.status.busy": "2021-06-06T22:06:00.852111Z",
     "iopub.status.idle": "2021-06-06T22:06:01.004424Z",
     "shell.execute_reply": "2021-06-06T22:06:01.003845Z"
    },
    "papermill": {
     "duration": 0.336172,
     "end_time": "2021-06-06T22:06:01.004575",
     "exception": false,
     "start_time": "2021-06-06T22:06:00.668403",
     "status": "completed"
    },
    "tags": []
   },
   "outputs": [],
   "source": [
    "test_image = x_test[0]\n",
    "x = np.expand_dims(test_image, axis=0)\n",
    "x = x/255\n",
    "\n",
    "images = np.vstack([x])\n",
    "\n",
    "classes = model.predict(images, batch_size=BATCH_SIZE)\n",
    "classes = np.argmax(classes,axis=1)\n",
    "\n",
    "print ('Class:', categories[int(classes)] )"
   ]
  },
  {
   "cell_type": "code",
   "execution_count": null,
   "id": "cloudy-thanksgiving",
   "metadata": {
    "execution": {
     "iopub.execute_input": "2021-06-06T22:06:01.383933Z",
     "iopub.status.busy": "2021-06-06T22:06:01.383253Z",
     "iopub.status.idle": "2021-06-06T22:06:01.391441Z",
     "shell.execute_reply": "2021-06-06T22:06:01.392024Z"
    },
    "papermill": {
     "duration": 0.202574,
     "end_time": "2021-06-06T22:06:01.392211",
     "exception": false,
     "start_time": "2021-06-06T22:06:01.189637",
     "status": "completed"
    },
    "tags": []
   },
   "outputs": [],
   "source": [
    "FP = matrix.sum(axis=0) - np.diag(matrix)\n",
    "FN = matrix.sum(axis=1) - np.diag(matrix)\n",
    "TP = np.diag(matrix)\n",
    "TN = matrix[:].sum() - (FP + FN + TP)\n",
    "\n",
    "TPR = TP/(TP+FN)\n",
    "TNR = TN/(TN+FP) \n",
    "PPV = TP/(TP+FP)\n",
    "NPV = TN/(TN+FN)\n",
    "FPR = FP/(FP+TN)\n",
    "FNR = FN/(TP+FN)\n",
    "FDR = FP/(TP+FP)\n",
    "\n",
    "ACC = (TP+TN)/(TP+FP+FN+TN)\n",
    "\n",
    "print('Other Metrics:')\n",
    "MSE = mean_squared_error(y_test, preds)\n",
    "\n",
    "print('MSE:', MSE)\n",
    "print('Accuracy:', ACC)\n",
    "print('Precision (positive predictive value):', PPV)\n",
    "print('Recall (Sensitivity, hit rate, true positive rate):', TPR)\n",
    "print('Specificity (true negative rate):', TNR)\n",
    "print('Negative Predictive Value:', NPV)\n",
    "print('Fall out (false positive rate):', FPR)\n",
    "print('False Negative Rate:', FNR)\n",
    "print('False discovery rate:', FDR)"
   ]
  },
  {
   "cell_type": "markdown",
   "id": "fallen-breakfast",
   "metadata": {
    "papermill": {
     "duration": 0.182515,
     "end_time": "2021-06-06T22:06:01.757233",
     "exception": false,
     "start_time": "2021-06-06T22:06:01.574718",
     "status": "completed"
    },
    "tags": []
   },
   "source": [
    "----\n",
    "\n",
    "**Deep-COVID** V.1.0.08 | Deep CNN-Based CAD System for COVID-19 Detection Using Multiple Lung CT Scans.\n",
    "<br>{Binary (COVID-19, Non-COVID) clasification.}\n",
    "\n",
    "© Proposed Method Implementation by **Mehrad Aria** for Paper [Deep Convolutional Neural Network–Based Computer-Aided Detection System for COVID-19 Using Multiple Lung Scans: Design and Implementation Study](https://doi.org/10.2196/27468).\n",
    "<br>Jan 2021 / Shiraz, Iran.\n",
    "\n",
    "----"
   ]
  },
  {
   "cell_type": "code",
   "execution_count": null,
   "id": "36f1a5bc",
   "metadata": {},
   "outputs": [],
   "source": []
  }
 ],
 "metadata": {
  "kernelspec": {
   "display_name": "Python 3 (ipykernel)",
   "language": "python",
   "name": "python3"
  },
  "language_info": {
   "codemirror_mode": {
    "name": "ipython",
    "version": 3
   },
   "file_extension": ".py",
   "mimetype": "text/x-python",
   "name": "python",
   "nbconvert_exporter": "python",
   "pygments_lexer": "ipython3",
   "version": "3.9.12"
  },
  "papermill": {
   "default_parameters": {},
   "duration": 22281.413175,
   "end_time": "2021-06-06T22:06:05.256180",
   "environment_variables": {},
   "exception": null,
   "input_path": "__notebook__.ipynb",
   "output_path": "__notebook__.ipynb",
   "parameters": {},
   "start_time": "2021-06-06T15:54:43.843005",
   "version": "2.3.3"
  }
 },
 "nbformat": 4,
 "nbformat_minor": 5
}
