{
 "cells": [
  {
   "cell_type": "code",
   "execution_count": 1,
   "metadata": {},
   "outputs": [
    {
     "name": "stderr",
     "output_type": "stream",
     "text": [
      "2023-04-26 08:16:33.981901: I tensorflow/tsl/cuda/cudart_stub.cc:28] Could not find cuda drivers on your machine, GPU will not be used.\n",
      "2023-04-26 08:16:34.018381: I tensorflow/tsl/cuda/cudart_stub.cc:28] Could not find cuda drivers on your machine, GPU will not be used.\n",
      "2023-04-26 08:16:34.019514: I tensorflow/core/platform/cpu_feature_guard.cc:182] This TensorFlow binary is optimized to use available CPU instructions in performance-critical operations.\n",
      "To enable the following instructions: AVX2 FMA, in other operations, rebuild TensorFlow with the appropriate compiler flags.\n",
      "2023-04-26 08:16:35.375091: W tensorflow/compiler/tf2tensorrt/utils/py_utils.cc:38] TF-TRT Warning: Could not find TensorRT\n"
     ]
    }
   ],
   "source": [
    "import tensorflow_decision_forests as tfdf\n",
    "\n",
    "import tensorflow as tf\n",
    "\n",
    "import os\n",
    "import numpy as np\n",
    "import pandas as pd\n",
    "import tensorflow as tf\n",
    "import math\n",
    "\n",
    "import dtreeviz\n",
    "\n",
    "from matplotlib import pyplot as plt\n",
    "from IPython import display"
   ]
  },
  {
   "cell_type": "code",
   "execution_count": 2,
   "metadata": {},
   "outputs": [
    {
     "name": "stderr",
     "output_type": "stream",
     "text": [
      "/tmp/ipykernel_566/745931794.py:5: DeprecationWarning: `set_matplotlib_formats` is deprecated since IPython 7.23, directly use `matplotlib_inline.backend_inline.set_matplotlib_formats()`\n"
     ]
    }
   ],
   "source": [
    "# avoid \"Arial font not found warnings\"\n",
    "import logging\n",
    "logging.getLogger('matplotlib.font_manager').setLevel(level=logging.CRITICAL)\n",
    "\n",
    "display.set_matplotlib_formats('retina') # generate hires plots\n",
    "\n",
    "np.random.seed(1234)  # reproducible plots/data for explanatory reasons"
   ]
  },
  {
   "cell_type": "code",
   "execution_count": 3,
   "metadata": {},
   "outputs": [],
   "source": [
    "# Split the dataset into a training and a testing dataset.\n",
    "\n",
    "def split_dataset(dataset, test_ratio=0.30):\n",
    "  \"\"\"Splits a panda dataframe in two.\"\"\"\n",
    "  test_indices = np.random.rand(len(dataset)) < test_ratio\n",
    "  return dataset[~test_indices], dataset[test_indices]\n",
    "\n"
   ]
  },
  {
   "cell_type": "code",
   "execution_count": 4,
   "metadata": {},
   "outputs": [],
   "source": [
    "df = pd.read_csv('covid-19_symptoms_dataset.csv', sep=\",\")"
   ]
  },
  {
   "cell_type": "code",
   "execution_count": 5,
   "metadata": {},
   "outputs": [
    {
     "name": "stdout",
     "output_type": "stream",
     "text": [
      "1785 examples in training, 790 examples for testing.\n"
     ]
    }
   ],
   "source": [
    "train_ds_pd, test_ds_pd = split_dataset(df)\n",
    "print(\"{} examples in training, {} examples for testing.\".format(\n",
    "    len(train_ds_pd), len(test_ds_pd)))"
   ]
  },
  {
   "cell_type": "code",
   "execution_count": 6,
   "metadata": {},
   "outputs": [
    {
     "data": {
      "text/html": [
       "<div>\n",
       "<style scoped>\n",
       "    .dataframe tbody tr th:only-of-type {\n",
       "        vertical-align: middle;\n",
       "    }\n",
       "\n",
       "    .dataframe tbody tr th {\n",
       "        vertical-align: top;\n",
       "    }\n",
       "\n",
       "    .dataframe thead th {\n",
       "        text-align: right;\n",
       "    }\n",
       "</style>\n",
       "<table border=\"1\" class=\"dataframe\">\n",
       "  <thead>\n",
       "    <tr style=\"text-align: right;\">\n",
       "      <th></th>\n",
       "      <th>fever</th>\n",
       "      <th>bodyPain</th>\n",
       "      <th>age</th>\n",
       "      <th>runnyNose</th>\n",
       "      <th>diffBreath</th>\n",
       "      <th>infectionProb</th>\n",
       "    </tr>\n",
       "  </thead>\n",
       "  <tbody>\n",
       "    <tr>\n",
       "      <th>0</th>\n",
       "      <td>102</td>\n",
       "      <td>0</td>\n",
       "      <td>9</td>\n",
       "      <td>0</td>\n",
       "      <td>-1</td>\n",
       "      <td>0</td>\n",
       "    </tr>\n",
       "    <tr>\n",
       "      <th>1</th>\n",
       "      <td>102</td>\n",
       "      <td>0</td>\n",
       "      <td>10</td>\n",
       "      <td>0</td>\n",
       "      <td>0</td>\n",
       "      <td>1</td>\n",
       "    </tr>\n",
       "    <tr>\n",
       "      <th>2</th>\n",
       "      <td>104</td>\n",
       "      <td>0</td>\n",
       "      <td>33</td>\n",
       "      <td>1</td>\n",
       "      <td>-1</td>\n",
       "      <td>0</td>\n",
       "    </tr>\n",
       "    <tr>\n",
       "      <th>3</th>\n",
       "      <td>101</td>\n",
       "      <td>1</td>\n",
       "      <td>59</td>\n",
       "      <td>0</td>\n",
       "      <td>1</td>\n",
       "      <td>0</td>\n",
       "    </tr>\n",
       "    <tr>\n",
       "      <th>4</th>\n",
       "      <td>99</td>\n",
       "      <td>0</td>\n",
       "      <td>98</td>\n",
       "      <td>0</td>\n",
       "      <td>0</td>\n",
       "      <td>0</td>\n",
       "    </tr>\n",
       "    <tr>\n",
       "      <th>...</th>\n",
       "      <td>...</td>\n",
       "      <td>...</td>\n",
       "      <td>...</td>\n",
       "      <td>...</td>\n",
       "      <td>...</td>\n",
       "      <td>...</td>\n",
       "    </tr>\n",
       "    <tr>\n",
       "      <th>2570</th>\n",
       "      <td>99</td>\n",
       "      <td>0</td>\n",
       "      <td>90</td>\n",
       "      <td>0</td>\n",
       "      <td>0</td>\n",
       "      <td>1</td>\n",
       "    </tr>\n",
       "    <tr>\n",
       "      <th>2571</th>\n",
       "      <td>100</td>\n",
       "      <td>0</td>\n",
       "      <td>53</td>\n",
       "      <td>0</td>\n",
       "      <td>-1</td>\n",
       "      <td>1</td>\n",
       "    </tr>\n",
       "    <tr>\n",
       "      <th>2572</th>\n",
       "      <td>101</td>\n",
       "      <td>0</td>\n",
       "      <td>44</td>\n",
       "      <td>1</td>\n",
       "      <td>0</td>\n",
       "      <td>0</td>\n",
       "    </tr>\n",
       "    <tr>\n",
       "      <th>2573</th>\n",
       "      <td>102</td>\n",
       "      <td>0</td>\n",
       "      <td>97</td>\n",
       "      <td>0</td>\n",
       "      <td>-1</td>\n",
       "      <td>1</td>\n",
       "    </tr>\n",
       "    <tr>\n",
       "      <th>2574</th>\n",
       "      <td>104</td>\n",
       "      <td>1</td>\n",
       "      <td>62</td>\n",
       "      <td>1</td>\n",
       "      <td>-1</td>\n",
       "      <td>1</td>\n",
       "    </tr>\n",
       "  </tbody>\n",
       "</table>\n",
       "<p>2575 rows × 6 columns</p>\n",
       "</div>"
      ],
      "text/plain": [
       "      fever  bodyPain  age  runnyNose  diffBreath  infectionProb\n",
       "0       102         0    9          0          -1              0\n",
       "1       102         0   10          0           0              1\n",
       "2       104         0   33          1          -1              0\n",
       "3       101         1   59          0           1              0\n",
       "4        99         0   98          0           0              0\n",
       "...     ...       ...  ...        ...         ...            ...\n",
       "2570     99         0   90          0           0              1\n",
       "2571    100         0   53          0          -1              1\n",
       "2572    101         0   44          1           0              0\n",
       "2573    102         0   97          0          -1              1\n",
       "2574    104         1   62          1          -1              1\n",
       "\n",
       "[2575 rows x 6 columns]"
      ]
     },
     "execution_count": 6,
     "metadata": {},
     "output_type": "execute_result"
    }
   ],
   "source": [
    "df"
   ]
  },
  {
   "cell_type": "code",
   "execution_count": 7,
   "metadata": {},
   "outputs": [
    {
     "name": "stderr",
     "output_type": "stream",
     "text": [
      "/tmp/ipykernel_566/1967664576.py:7: SettingWithCopyWarning: \n",
      "A value is trying to be set on a copy of a slice from a DataFrame.\n",
      "Try using .loc[row_indexer,col_indexer] = value instead\n",
      "\n",
      "See the caveats in the documentation: https://pandas.pydata.org/pandas-docs/stable/user_guide/indexing.html#returning-a-view-versus-a-copy\n"
     ]
    }
   ],
   "source": [
    "target = 'infectionProb'\n",
    "\n",
    "classes = list(df[target].unique())\n",
    "\n",
    "df = df.iloc[:, df.columns != 'age']\n",
    "\n",
    "df[target] = df[target].map(classes.index)"
   ]
  },
  {
   "cell_type": "code",
   "execution_count": 8,
   "metadata": {},
   "outputs": [
    {
     "name": "stdout",
     "output_type": "stream",
     "text": [
      "1800 examples in training, 775 examples for testing.\n"
     ]
    }
   ],
   "source": [
    "# Split into training and test sets\n",
    "train_ds_pd, test_ds_pd = split_dataset(df)\n",
    "print(f\"{len(train_ds_pd)} examples in training, {len(test_ds_pd)} examples for testing.\")\n",
    "\n",
    "# Convert to tensorflow data sets\n",
    "train_ds = tfdf.keras.pd_dataframe_to_tf_dataset(train_ds_pd, label=target)\n",
    "test_ds = tfdf.keras.pd_dataframe_to_tf_dataset(test_ds_pd, label=target)"
   ]
  },
  {
   "cell_type": "code",
   "execution_count": 9,
   "metadata": {},
   "outputs": [
    {
     "name": "stdout",
     "output_type": "stream",
     "text": [
      "Use /tmp/tmp33a_pckh as temporary training directory\n",
      "Reading training dataset...\n"
     ]
    },
    {
     "name": "stderr",
     "output_type": "stream",
     "text": [
      "[WARNING 23-04-26 08:16:41.8655 CEST gradient_boosted_trees.cc:1797] \"goss_alpha\" set but \"sampling_method\" not equal to \"GOSS\".\n",
      "[WARNING 23-04-26 08:16:41.8656 CEST gradient_boosted_trees.cc:1808] \"goss_beta\" set but \"sampling_method\" not equal to \"GOSS\".\n",
      "[WARNING 23-04-26 08:16:41.8656 CEST gradient_boosted_trees.cc:1822] \"selective_gradient_boosting_ratio\" set but \"sampling_method\" not equal to \"SELGB\".\n",
      "2023-04-26 08:16:41.919744: I tensorflow/core/common_runtime/executor.cc:1197] [/device:CPU:0] (DEBUG INFO) Executor start aborting (this does not indicate an error and you can ignore this message): INVALID_ARGUMENT: You must feed a value for placeholder tensor 'Placeholder/_3' with dtype int64 and shape [1800]\n",
      "\t [[{{node Placeholder/_3}}]]\n"
     ]
    },
    {
     "name": "stdout",
     "output_type": "stream",
     "text": [
      "Training dataset read in 0:00:03.834106. Found 1800 examples.\n",
      "Reading validation dataset...\n",
      "Num validation examples: tf.Tensor(775, shape=(), dtype=int32)\n",
      "Validation dataset read in 0:00:00.195933. Found 775 examples.\n",
      "Training model...\n"
     ]
    },
    {
     "name": "stderr",
     "output_type": "stream",
     "text": [
      "2023-04-26 08:16:45.745989: I tensorflow/core/common_runtime/executor.cc:1197] [/device:CPU:0] (DEBUG INFO) Executor start aborting (this does not indicate an error and you can ignore this message): INVALID_ARGUMENT: You must feed a value for placeholder tensor 'Placeholder/_1' with dtype int64 and shape [775]\n",
      "\t [[{{node Placeholder/_1}}]]\n",
      "[INFO 23-04-26 08:16:47.3703 CEST kernel.cc:1242] Loading model from path /tmp/tmp33a_pckh/model/ with prefix b8763fb44e3345a1\n"
     ]
    },
    {
     "name": "stdout",
     "output_type": "stream",
     "text": [
      "Model trained in 0:00:01.864277\n",
      "Compiling model...\n"
     ]
    },
    {
     "name": "stderr",
     "output_type": "stream",
     "text": [
      "[INFO 23-04-26 08:16:47.8010 CEST abstract_model.cc:1311] Engine \"GradientBoostedTreesQuickScorerExtended\" built\n",
      "[INFO 23-04-26 08:16:47.8010 CEST kernel.cc:1074] Use fast generic engine\n",
      "2023-04-26 08:16:47.820310: I tensorflow/core/common_runtime/executor.cc:1197] [/device:CPU:0] (DEBUG INFO) Executor start aborting (this does not indicate an error and you can ignore this message): INVALID_ARGUMENT: You must feed a value for placeholder tensor 'Placeholder/_3' with dtype int64 and shape [1800]\n",
      "\t [[{{node Placeholder/_3}}]]\n"
     ]
    },
    {
     "name": "stdout",
     "output_type": "stream",
     "text": [
      "WARNING:tensorflow:AutoGraph could not transform <function simple_ml_inference_op_with_handle at 0x7fe9587df160> and will run it as-is.\n",
      "Please report this to the TensorFlow team. When filing the bug, set the verbosity to 10 (on Linux, `export AUTOGRAPH_VERBOSITY=10`) and attach the full output.\n",
      "Cause: could not get source code\n",
      "To silence this warning, decorate the function with @tf.autograph.experimental.do_not_convert\n"
     ]
    },
    {
     "name": "stderr",
     "output_type": "stream",
     "text": [
      "WARNING:tensorflow:AutoGraph could not transform <function simple_ml_inference_op_with_handle at 0x7fe9587df160> and will run it as-is.\n",
      "Please report this to the TensorFlow team. When filing the bug, set the verbosity to 10 (on Linux, `export AUTOGRAPH_VERBOSITY=10`) and attach the full output.\n",
      "Cause: could not get source code\n",
      "To silence this warning, decorate the function with @tf.autograph.experimental.do_not_convert\n"
     ]
    },
    {
     "name": "stdout",
     "output_type": "stream",
     "text": [
      "WARNING: AutoGraph could not transform <function simple_ml_inference_op_with_handle at 0x7fe9587df160> and will run it as-is.\n",
      "Please report this to the TensorFlow team. When filing the bug, set the verbosity to 10 (on Linux, `export AUTOGRAPH_VERBOSITY=10`) and attach the full output.\n",
      "Cause: could not get source code\n",
      "To silence this warning, decorate the function with @tf.autograph.experimental.do_not_convert\n",
      "Model compiled.\n"
     ]
    },
    {
     "data": {
      "text/plain": [
       "<keras.callbacks.History at 0x7fe954013250>"
      ]
     },
     "execution_count": 9,
     "metadata": {},
     "output_type": "execute_result"
    }
   ],
   "source": [
    "# Specify the model.\n",
    "model_1 = tfdf.keras.GradientBoostedTreesModel()\n",
    "\n",
    "# Train the model.\n",
    "model_1.fit(train_ds, validation_data=test_ds)"
   ]
  },
  {
   "cell_type": "code",
   "execution_count": 10,
   "metadata": {},
   "outputs": [
    {
     "name": "stdout",
     "output_type": "stream",
     "text": [
      "1/1 [==============================] - 0s 80ms/step - loss: 0.0000e+00 - accuracy: 0.5006\n",
      "\n",
      "loss: 0.0000\n",
      "accuracy: 0.5006\n"
     ]
    }
   ],
   "source": [
    "model_1.compile(metrics=[\"accuracy\"])\n",
    "evaluation = model_1.evaluate(test_ds, return_dict=True)\n",
    "print()\n",
    "\n",
    "for name, value in evaluation.items():\n",
    "  print(f\"{name}: {value:.4f}\")"
   ]
  },
  {
   "cell_type": "code",
   "execution_count": 11,
   "metadata": {},
   "outputs": [
    {
     "name": "stderr",
     "output_type": "stream",
     "text": [
      "WARNING:absl:Function `_wrapped_model` contains input name(s) bodyPain, diffBreath, runnyNose with unsupported characters which will be renamed to bodypain, diffbreath, runnynose in the SavedModel.\n",
      "WARNING:absl:Found untraced functions such as call_get_leaves, _update_step_xla while saving (showing 2 of 2). These functions will not be directly callable after loading.\n"
     ]
    },
    {
     "name": "stdout",
     "output_type": "stream",
     "text": [
      "INFO:tensorflow:Assets written to: /tmp/my_saved_model/assets\n"
     ]
    },
    {
     "name": "stderr",
     "output_type": "stream",
     "text": [
      "INFO:tensorflow:Assets written to: /tmp/my_saved_model/assets\n"
     ]
    }
   ],
   "source": [
    "model_1.save(\"/tmp/my_saved_model\")"
   ]
  },
  {
   "cell_type": "code",
   "execution_count": 12,
   "metadata": {},
   "outputs": [
    {
     "name": "stdout",
     "output_type": "stream",
     "text": [
      "Model: \"gradient_boosted_trees_model\"\n",
      "_________________________________________________________________\n",
      " Layer (type)                Output Shape              Param #   \n",
      "=================================================================\n",
      "=================================================================\n",
      "Total params: 1\n",
      "Trainable params: 0\n",
      "Non-trainable params: 1\n",
      "_________________________________________________________________\n",
      "Type: \"GRADIENT_BOOSTED_TREES\"\n",
      "Task: CLASSIFICATION\n",
      "Label: \"__LABEL\"\n",
      "\n",
      "Input Features (4):\n",
      "\tbodyPain\n",
      "\tdiffBreath\n",
      "\tfever\n",
      "\trunnyNose\n",
      "\n",
      "No weights\n",
      "\n",
      "Variable Importance: INV_MEAN_MIN_DEPTH:\n",
      "    1. \"diffBreath\"  0.601562 ################\n",
      "    2.  \"runnyNose\"  0.423077 #######\n",
      "    3.      \"fever\"  0.363636 #####\n",
      "    4.   \"bodyPain\"  0.253968 \n",
      "\n",
      "Variable Importance: NUM_AS_ROOT:\n",
      "    1. \"diffBreath\"  7.000000 ################\n",
      "    2.  \"runnyNose\"  4.000000 \n",
      "\n",
      "Variable Importance: NUM_NODES:\n",
      "    1.      \"fever\" 147.000000 ################\n",
      "    2.   \"bodyPain\" 77.000000 ######\n",
      "    3. \"diffBreath\" 77.000000 ######\n",
      "    4.  \"runnyNose\" 24.000000 \n",
      "\n",
      "Variable Importance: SUM_SCORE:\n",
      "    1.      \"fever\" 43.430714 ################\n",
      "    2. \"diffBreath\" 20.853565 #####\n",
      "    3.   \"bodyPain\" 14.051393 #\n",
      "    4.  \"runnyNose\" 10.303829 \n",
      "\n",
      "\n",
      "\n",
      "Loss: BINOMIAL_LOG_LIKELIHOOD\n",
      "Validation loss value: 1.41329\n",
      "Number of trees per iteration: 1\n",
      "Node format: NOT_SET\n",
      "Number of trees: 11\n",
      "Total number of nodes: 661\n",
      "\n",
      "Number of nodes by tree:\n",
      "Count: 11 Average: 60.0909 StdDev: 3.84837\n",
      "Min: 55 Max: 63 Ignored: 0\n",
      "----------------------------------------------\n",
      "[ 55, 56) 4  36.36%  36.36% ######\n",
      "[ 56, 57) 0   0.00%  36.36%\n",
      "[ 57, 58) 0   0.00%  36.36%\n",
      "[ 58, 59) 0   0.00%  36.36%\n",
      "[ 59, 60) 0   0.00%  36.36%\n",
      "[ 60, 61) 0   0.00%  36.36%\n",
      "[ 61, 62) 0   0.00%  36.36%\n",
      "[ 62, 63) 0   0.00%  36.36%\n",
      "[ 63, 63] 7  63.64% 100.00% ##########\n",
      "\n",
      "Depth by leafs:\n",
      "Count: 336 Average: 4.95238 StdDev: 0.212959\n",
      "Min: 4 Max: 5 Ignored: 0\n",
      "----------------------------------------------\n",
      "[ 4, 5)  16   4.76%   4.76% #\n",
      "[ 5, 5] 320  95.24% 100.00% ##########\n",
      "\n",
      "Number of training obs by leaf:\n",
      "Count: 336 Average: 58.9286 StdDev: 55.1914\n",
      "Min: 14 Max: 254 Ignored: 0\n",
      "----------------------------------------------\n",
      "[  14,  26) 147  43.75%  43.75% ##########\n",
      "[  26,  38)  27   8.04%  51.79% ##\n",
      "[  38,  50)  26   7.74%  59.52% ##\n",
      "[  50,  62)  19   5.65%  65.18% #\n",
      "[  62,  74)  23   6.85%  72.02% ##\n",
      "[  74,  86)  19   5.65%  77.68% #\n",
      "[  86,  98)  20   5.95%  83.63% #\n",
      "[  98, 110)  11   3.27%  86.90% #\n",
      "[ 110, 122)   4   1.19%  88.10%\n",
      "[ 122, 134)   5   1.49%  89.58%\n",
      "[ 134, 146)   5   1.49%  91.07%\n",
      "[ 146, 158)   4   1.19%  92.26%\n",
      "[ 158, 170)   4   1.19%  93.45%\n",
      "[ 170, 182)   6   1.79%  95.24%\n",
      "[ 182, 194)   0   0.00%  95.24%\n",
      "[ 194, 206)   0   0.00%  95.24%\n",
      "[ 206, 218)   4   1.19%  96.43%\n",
      "[ 218, 230)   0   0.00%  96.43%\n",
      "[ 230, 242)   4   1.19%  97.62%\n",
      "[ 242, 254]   8   2.38% 100.00% #\n",
      "\n",
      "Attribute in nodes:\n",
      "\t147 : fever [NUMERICAL]\n",
      "\t77 : diffBreath [NUMERICAL]\n",
      "\t77 : bodyPain [NUMERICAL]\n",
      "\t24 : runnyNose [NUMERICAL]\n",
      "\n",
      "Attribute in nodes with depth <= 0:\n",
      "\t7 : diffBreath [NUMERICAL]\n",
      "\t4 : runnyNose [NUMERICAL]\n",
      "\n",
      "Attribute in nodes with depth <= 1:\n",
      "\t11 : runnyNose [NUMERICAL]\n",
      "\t11 : fever [NUMERICAL]\n",
      "\t11 : diffBreath [NUMERICAL]\n",
      "\n",
      "Attribute in nodes with depth <= 2:\n",
      "\t26 : fever [NUMERICAL]\n",
      "\t18 : runnyNose [NUMERICAL]\n",
      "\t18 : bodyPain [NUMERICAL]\n",
      "\t15 : diffBreath [NUMERICAL]\n",
      "\n",
      "Attribute in nodes with depth <= 3:\n",
      "\t58 : fever [NUMERICAL]\n",
      "\t48 : bodyPain [NUMERICAL]\n",
      "\t39 : diffBreath [NUMERICAL]\n",
      "\t20 : runnyNose [NUMERICAL]\n",
      "\n",
      "Attribute in nodes with depth <= 5:\n",
      "\t147 : fever [NUMERICAL]\n",
      "\t77 : diffBreath [NUMERICAL]\n",
      "\t77 : bodyPain [NUMERICAL]\n",
      "\t24 : runnyNose [NUMERICAL]\n",
      "\n",
      "Condition type in nodes:\n",
      "\t325 : HigherCondition\n",
      "Condition type in nodes with depth <= 0:\n",
      "\t11 : HigherCondition\n",
      "Condition type in nodes with depth <= 1:\n",
      "\t33 : HigherCondition\n",
      "Condition type in nodes with depth <= 2:\n",
      "\t77 : HigherCondition\n",
      "Condition type in nodes with depth <= 3:\n",
      "\t165 : HigherCondition\n",
      "Condition type in nodes with depth <= 5:\n",
      "\t325 : HigherCondition\n",
      "\n",
      "Training logs:\n",
      "Number of iteration to final model: 11\n",
      "\tIter:1 train-loss:1.378375 valid-loss:1.389028  train-accuracy:0.547222 valid-accuracy:0.490323\n",
      "\tIter:2 train-loss:1.372240 valid-loss:1.391838  train-accuracy:0.560556 valid-accuracy:0.489032\n",
      "\tIter:3 train-loss:1.367350 valid-loss:1.394700  train-accuracy:0.582778 valid-accuracy:0.507097\n",
      "\tIter:4 train-loss:1.363433 valid-loss:1.397487  train-accuracy:0.585000 valid-accuracy:0.508387\n",
      "\tIter:5 train-loss:1.360244 valid-loss:1.400401  train-accuracy:0.583333 valid-accuracy:0.490323\n",
      "\tIter:6 train-loss:1.357519 valid-loss:1.402776  train-accuracy:0.583889 valid-accuracy:0.495484\n",
      "\tIter:16 train-loss:1.343183 valid-loss:1.420523  train-accuracy:0.591111 valid-accuracy:0.503226\n",
      "\tIter:26 train-loss:1.337527 valid-loss:1.431228  train-accuracy:0.590000 valid-accuracy:0.500645\n",
      "\tIter:36 train-loss:1.334097 valid-loss:1.434431  train-accuracy:0.594444 valid-accuracy:0.507097\n",
      "\n"
     ]
    }
   ],
   "source": [
    "model_1.summary()"
   ]
  },
  {
   "cell_type": "code",
   "execution_count": 13,
   "metadata": {},
   "outputs": [
    {
     "data": {
      "text/plain": [
       "[\"bodyPain\" (1; #1),\n",
       " \"diffBreath\" (1; #2),\n",
       " \"fever\" (1; #3),\n",
       " \"runnyNose\" (1; #4)]"
      ]
     },
     "execution_count": 13,
     "metadata": {},
     "output_type": "execute_result"
    }
   ],
   "source": [
    "# The input features\n",
    "model_1.make_inspector().features()"
   ]
  },
  {
   "cell_type": "code",
   "execution_count": 14,
   "metadata": {},
   "outputs": [
    {
     "data": {
      "text/plain": [
       "{'SUM_SCORE': [(\"fever\" (1; #3), 43.430713676161815),\n",
       "  (\"diffBreath\" (1; #2), 20.853564599376114),\n",
       "  (\"bodyPain\" (1; #1), 14.051393459376413),\n",
       "  (\"runnyNose\" (1; #4), 10.303829252254218)],\n",
       " 'INV_MEAN_MIN_DEPTH': [(\"diffBreath\" (1; #2), 0.6015625),\n",
       "  (\"runnyNose\" (1; #4), 0.4230769230769231),\n",
       "  (\"fever\" (1; #3), 0.3636363636363637),\n",
       "  (\"bodyPain\" (1; #1), 0.253968253968254)],\n",
       " 'NUM_NODES': [(\"fever\" (1; #3), 147.0),\n",
       "  (\"bodyPain\" (1; #1), 77.0),\n",
       "  (\"diffBreath\" (1; #2), 77.0),\n",
       "  (\"runnyNose\" (1; #4), 24.0)],\n",
       " 'NUM_AS_ROOT': [(\"diffBreath\" (1; #2), 7.0), (\"runnyNose\" (1; #4), 4.0)]}"
      ]
     },
     "execution_count": 14,
     "metadata": {},
     "output_type": "execute_result"
    }
   ],
   "source": [
    "# The feature importances\n",
    "model_1.make_inspector().variable_importances()"
   ]
  },
  {
   "cell_type": "code",
   "execution_count": 15,
   "metadata": {},
   "outputs": [
    {
     "ename": "ValueError",
     "evalue": "Tree model must be in (DecisionTreeRegressor, DecisionTreeClassifier, xgboost.core.Booster, lightgbm.basic.Booster, pyspark DecisionTreeClassificationModel, pyspark DecisionTreeClassificationModel, tensorflow_decision_forests.keras.RandomForestModel) but you passed a GradientBoostedTreesModel!",
     "output_type": "error",
     "traceback": [
      "\u001b[0;31m---------------------------------------------------------------------------\u001b[0m",
      "\u001b[0;31mValueError\u001b[0m                                Traceback (most recent call last)",
      "Input \u001b[0;32mIn [15]\u001b[0m, in \u001b[0;36m<cell line: 3>\u001b[0;34m()\u001b[0m\n\u001b[1;32m      1\u001b[0m \u001b[38;5;66;03m# Tell dtreeviz about training data and model\u001b[39;00m\n\u001b[1;32m      2\u001b[0m features \u001b[38;5;241m=\u001b[39m [f\u001b[38;5;241m.\u001b[39mname \u001b[38;5;28;01mfor\u001b[39;00m f \u001b[38;5;129;01min\u001b[39;00m model_1\u001b[38;5;241m.\u001b[39mmake_inspector()\u001b[38;5;241m.\u001b[39mfeatures()]\n\u001b[0;32m----> 3\u001b[0m viz_cmodel \u001b[38;5;241m=\u001b[39m \u001b[43mdtreeviz\u001b[49m\u001b[38;5;241;43m.\u001b[39;49m\u001b[43mmodel\u001b[49m\u001b[43m(\u001b[49m\u001b[43mmodel_1\u001b[49m\u001b[43m,\u001b[49m\n\u001b[1;32m      4\u001b[0m \u001b[43m                           \u001b[49m\u001b[43mtree_index\u001b[49m\u001b[38;5;241;43m=\u001b[39;49m\u001b[38;5;241;43m3\u001b[39;49m\u001b[43m,\u001b[49m\n\u001b[1;32m      5\u001b[0m \u001b[43m                           \u001b[49m\u001b[43mX_train\u001b[49m\u001b[38;5;241;43m=\u001b[39;49m\u001b[43mtrain_ds_pd\u001b[49m\u001b[43m[\u001b[49m\u001b[43mfeatures\u001b[49m\u001b[43m]\u001b[49m\u001b[43m,\u001b[49m\n\u001b[1;32m      6\u001b[0m \u001b[43m                           \u001b[49m\u001b[43my_train\u001b[49m\u001b[38;5;241;43m=\u001b[39;49m\u001b[43mtrain_ds_pd\u001b[49m\u001b[43m[\u001b[49m\u001b[43mtarget\u001b[49m\u001b[43m]\u001b[49m\u001b[43m,\u001b[49m\n\u001b[1;32m      7\u001b[0m \u001b[43m                           \u001b[49m\u001b[43mfeature_names\u001b[49m\u001b[38;5;241;43m=\u001b[39;49m\u001b[43mfeatures\u001b[49m\u001b[43m,\u001b[49m\n\u001b[1;32m      8\u001b[0m \u001b[43m                           \u001b[49m\u001b[43mtarget_name\u001b[49m\u001b[38;5;241;43m=\u001b[39;49m\u001b[43mtarget\u001b[49m\u001b[43m,\u001b[49m\n\u001b[1;32m      9\u001b[0m \u001b[43m                           \u001b[49m\u001b[43mclass_names\u001b[49m\u001b[38;5;241;43m=\u001b[39;49m\u001b[43mclasses\u001b[49m\u001b[43m)\u001b[49m\n",
      "File \u001b[0;32m~/anaconda3/lib/python3.9/site-packages/dtreeviz/trees.py:1911\u001b[0m, in \u001b[0;36mmodel\u001b[0;34m(model, X_train, y_train, tree_index, feature_names, target_name, class_names)\u001b[0m\n\u001b[1;32m   1888\u001b[0m \u001b[38;5;28;01mdef\u001b[39;00m \u001b[38;5;21mmodel\u001b[39m(model,\n\u001b[1;32m   1889\u001b[0m           X_train,\n\u001b[1;32m   1890\u001b[0m           y_train,\n\u001b[0;32m   (...)\u001b[0m\n\u001b[1;32m   1893\u001b[0m           target_name: \u001b[38;5;28mstr\u001b[39m \u001b[38;5;241m=\u001b[39m \u001b[38;5;28;01mNone\u001b[39;00m,\n\u001b[1;32m   1894\u001b[0m           class_names: (List[\u001b[38;5;28mstr\u001b[39m], Mapping[\u001b[38;5;28mint\u001b[39m, \u001b[38;5;28mstr\u001b[39m]) \u001b[38;5;241m=\u001b[39m \u001b[38;5;28;01mNone\u001b[39;00m) \u001b[38;5;241m-\u001b[39m\u001b[38;5;241m>\u001b[39m DTreeVizAPI:\n\u001b[1;32m   1895\u001b[0m     \u001b[38;5;124;03m\"\"\"\u001b[39;00m\n\u001b[1;32m   1896\u001b[0m \u001b[38;5;124;03m    Given a decision tree-based model from a supported decision-tree library, training data, and\u001b[39;00m\n\u001b[1;32m   1897\u001b[0m \u001b[38;5;124;03m    information about the data, create a model adaptor that provides a consistent interface for\u001b[39;00m\n\u001b[0;32m   (...)\u001b[0m\n\u001b[1;32m   1909\u001b[0m \u001b[38;5;124;03m             e.g., call the view() method on the return object to display it in a notebook.\u001b[39;00m\n\u001b[1;32m   1910\u001b[0m \u001b[38;5;124;03m    \"\"\"\u001b[39;00m\n\u001b[0;32m-> 1911\u001b[0m     shadow_tree \u001b[38;5;241m=\u001b[39m \u001b[43mShadowDecTree\u001b[49m\u001b[38;5;241;43m.\u001b[39;49m\u001b[43mget_shadow_tree\u001b[49m\u001b[43m(\u001b[49m\u001b[43mmodel\u001b[49m\u001b[43m,\u001b[49m\u001b[43m \u001b[49m\u001b[43mX_train\u001b[49m\u001b[43m,\u001b[49m\u001b[43m \u001b[49m\u001b[43my_train\u001b[49m\u001b[43m,\u001b[49m\n\u001b[1;32m   1912\u001b[0m \u001b[43m                                                \u001b[49m\u001b[43mfeature_names\u001b[49m\u001b[43m,\u001b[49m\u001b[43m \u001b[49m\u001b[43mtarget_name\u001b[49m\u001b[43m,\u001b[49m\u001b[43m \u001b[49m\u001b[43mclass_names\u001b[49m\u001b[43m,\u001b[49m\n\u001b[1;32m   1913\u001b[0m \u001b[43m                                                \u001b[49m\u001b[43mtree_index\u001b[49m\u001b[43m)\u001b[49m\n\u001b[1;32m   1914\u001b[0m     dtreeviz_model \u001b[38;5;241m=\u001b[39m DTreeVizAPI(shadow_tree)\n\u001b[1;32m   1915\u001b[0m     \u001b[38;5;28;01mreturn\u001b[39;00m dtreeviz_model\n",
      "File \u001b[0;32m~/anaconda3/lib/python3.9/site-packages/dtreeviz/models/shadow_decision_tree.py:465\u001b[0m, in \u001b[0;36mShadowDecTree.get_shadow_tree\u001b[0;34m(tree_model, X_train, y_train, feature_names, target_name, class_names, tree_index)\u001b[0m\n\u001b[1;32m    462\u001b[0m     \u001b[38;5;28;01mreturn\u001b[39;00m tensorflow_decision_tree\u001b[38;5;241m.\u001b[39mShadowTensorflowTree(tree_model, tree_index, X_train, y_train,\n\u001b[1;32m    463\u001b[0m                                                          feature_names, target_name, class_names)\n\u001b[1;32m    464\u001b[0m \u001b[38;5;28;01melse\u001b[39;00m:\n\u001b[0;32m--> 465\u001b[0m     \u001b[38;5;28;01mraise\u001b[39;00m \u001b[38;5;167;01mValueError\u001b[39;00m(\n\u001b[1;32m    466\u001b[0m         \u001b[38;5;124mf\u001b[39m\u001b[38;5;124m\"\u001b[39m\u001b[38;5;124mTree model must be in (DecisionTreeRegressor, DecisionTreeClassifier, \u001b[39m\u001b[38;5;124m\"\u001b[39m\n\u001b[1;32m    467\u001b[0m         \u001b[38;5;124m\"\u001b[39m\u001b[38;5;124mxgboost.core.Booster, lightgbm.basic.Booster, pyspark DecisionTreeClassificationModel, \u001b[39m\u001b[38;5;124m\"\u001b[39m\n\u001b[1;32m    468\u001b[0m         \u001b[38;5;124mf\u001b[39m\u001b[38;5;124m\"\u001b[39m\u001b[38;5;124mpyspark DecisionTreeClassificationModel, tensorflow_decision_forests.keras.RandomForestModel) \u001b[39m\u001b[38;5;124m\"\u001b[39m\n\u001b[1;32m    469\u001b[0m         \u001b[38;5;124mf\u001b[39m\u001b[38;5;124m\"\u001b[39m\u001b[38;5;124mbut you passed a \u001b[39m\u001b[38;5;132;01m{\u001b[39;00mtree_model\u001b[38;5;241m.\u001b[39m\u001b[38;5;18m__class__\u001b[39m\u001b[38;5;241m.\u001b[39m\u001b[38;5;18m__name__\u001b[39m\u001b[38;5;132;01m}\u001b[39;00m\u001b[38;5;124m!\u001b[39m\u001b[38;5;124m\"\u001b[39m)\n",
      "\u001b[0;31mValueError\u001b[0m: Tree model must be in (DecisionTreeRegressor, DecisionTreeClassifier, xgboost.core.Booster, lightgbm.basic.Booster, pyspark DecisionTreeClassificationModel, pyspark DecisionTreeClassificationModel, tensorflow_decision_forests.keras.RandomForestModel) but you passed a GradientBoostedTreesModel!"
     ]
    }
   ],
   "source": [
    "# Tell dtreeviz about training data and model\n",
    "features = [f.name for f in model_1.make_inspector().features()]\n",
    "viz_cmodel = dtreeviz.model(model_1,\n",
    "                           tree_index=3,\n",
    "                           X_train=train_ds_pd[features],\n",
    "                           y_train=train_ds_pd[target],\n",
    "                           feature_names=features,\n",
    "                           target_name=target,\n",
    "                           class_names=classes)"
   ]
  },
  {
   "cell_type": "code",
   "execution_count": null,
   "metadata": {},
   "outputs": [],
   "source": [
    "viz_cmodel.view(scale=1.2)"
   ]
  },
  {
   "cell_type": "code",
   "execution_count": null,
   "metadata": {},
   "outputs": [],
   "source": [
    "print(features)"
   ]
  },
  {
   "cell_type": "code",
   "execution_count": null,
   "metadata": {},
   "outputs": [],
   "source": [
    "model_1.save(\"my_model\")"
   ]
  },
  {
   "cell_type": "code",
   "execution_count": null,
   "metadata": {},
   "outputs": [],
   "source": [
    "df.head(1)"
   ]
  },
  {
   "cell_type": "markdown",
   "metadata": {},
   "source": [
    "df[~'infectionProb']"
   ]
  },
  {
   "cell_type": "code",
   "execution_count": null,
   "metadata": {},
   "outputs": [],
   "source": [
    "test = tfdf.keras.pd_dataframe_to_tf_dataset(df.loc[:, df.columns!='infectionProb'].head(1))\n",
    "t1 = df['infectionProb'].head(1)"
   ]
  },
  {
   "cell_type": "code",
   "execution_count": null,
   "metadata": {},
   "outputs": [],
   "source": [
    "tes = model_1.predict(test, verbose=0)"
   ]
  },
  {
   "cell_type": "code",
   "execution_count": null,
   "metadata": {},
   "outputs": [],
   "source": [
    "k = []\n",
    "i = 0\n",
    "cnt = 0\n",
    "for t in tes:\n",
    "    if(t[0]>0.50):\n",
    "        k.append(1)\n",
    "        #print(\"1 - \" + str(t1[i]))\n",
    "        if(t1[i] == 1):\n",
    "            cnt += 1\n",
    "    else:\n",
    "        k.append(0)\n",
    "        #print(\"0 - \" + str(t1[i]))\n",
    "        if(t1[i] == 0):\n",
    "            cnt += 1\n",
    "    i+=1\n",
    "print(cnt/len(t1))"
   ]
  },
  {
   "cell_type": "code",
   "execution_count": null,
   "metadata": {},
   "outputs": [],
   "source": [
    "print(df.head(1))"
   ]
  },
  {
   "cell_type": "code",
   "execution_count": null,
   "metadata": {},
   "outputs": [],
   "source": [
    "t2_dic = {'fever':[103], 'bodyPain': [0], 'runnyNose':[1], 'diffBreath':[-1]}\n",
    "t2_df = pd.DataFrame.from_dict(t2_dic)"
   ]
  },
  {
   "cell_type": "code",
   "execution_count": null,
   "metadata": {},
   "outputs": [],
   "source": [
    "d2_tfdf = tfdf.keras.pd_dataframe_to_tf_dataset(t2_df)"
   ]
  },
  {
   "cell_type": "code",
   "execution_count": null,
   "metadata": {},
   "outputs": [],
   "source": [
    "model_1.predict(d2_tfdf, verbose=0)"
   ]
  }
 ],
 "metadata": {
  "kernelspec": {
   "display_name": "Python 3 (ipykernel)",
   "language": "python",
   "name": "python3"
  },
  "language_info": {
   "codemirror_mode": {
    "name": "ipython",
    "version": 3
   },
   "file_extension": ".py",
   "mimetype": "text/x-python",
   "name": "python",
   "nbconvert_exporter": "python",
   "pygments_lexer": "ipython3",
   "version": "3.9.12"
  }
 },
 "nbformat": 4,
 "nbformat_minor": 2
}
