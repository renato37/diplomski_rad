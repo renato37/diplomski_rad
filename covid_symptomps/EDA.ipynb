{
 "cells": [
  {
   "cell_type": "code",
   "execution_count": 1,
   "id": "f6ffca34",
   "metadata": {},
   "outputs": [],
   "source": [
    "import pandas as pd\n",
    "import numpy as np\n",
    "import matplotlib.pyplot as plt\n",
    "import seaborn as sns\n",
    "import math\n",
    "from statsmodels.stats.outliers_influence import variance_inflation_factor\n",
    "from patsy import dmatrices"
   ]
  },
  {
   "cell_type": "code",
   "execution_count": 2,
   "id": "c5b9117f",
   "metadata": {},
   "outputs": [],
   "source": [
    "df = pd.read_csv('./covid-19_symptoms_dataset.csv')"
   ]
  },
  {
   "cell_type": "markdown",
   "id": "cc10a62d",
   "metadata": {},
   "source": [
    "Covid-19 positive and negative cases patient's symptoms dataset collected from a nearby hospital. There is a total of 2575 Covid-19 positive and negative patients symptoms of including age, fever, body pain, runny nose, diff breath, and the infection probability of Covid-19 patients which is either 1 or 0. Where 1 indicates Covid positive cases and 0 indicates Covid negative cases. In an age which contains 1 to 100 yrs old patients with different values of fever. But in diff breath there are three types of values, where-1 denotes no diff breath problem, 1 denotes a severe diff breath problem, and 0 denotes a moderate diff breath problem. And lastly, in runny nose and body pain, there are two types of values in this dataset. This dataset collection methodology was basically self gathered."
   ]
  },
  {
   "cell_type": "markdown",
   "id": "3ce26635",
   "metadata": {},
   "source": [
    "Fever - The total of 2575 covid-19 positive and negative patient fever values from 98 F to 104 F.\n",
    "\n",
    "BodyPain - 2575 covid-19 positive and negative patient body pain symptoms. Here, 0 means he or she had no body pain and 1 means\n",
    "\n",
    "Age - 2575 covid-19 positive and negative patients' different age graphs ranging from 1 to 100 years\n",
    "\n",
    "RunnyNose - The total of 2575 covid-19 positive and negative patient runny nose problem values. Here 0 indicates no runny nose\n",
    "\n",
    "DiffBreath - The total of 2575 covid-19 positive and negative patient diff breath problem. Here -1 denotes no diff breath problem, 1\n",
    "\n",
    "InfectionProb - This is the Covid-19 positive and negative cases patients value. Here denotes negative cases and 1 denotes positive"
   ]
  },
  {
   "cell_type": "code",
   "execution_count": 3,
   "id": "c0c0649b",
   "metadata": {},
   "outputs": [
    {
     "data": {
      "text/html": [
       "<div>\n",
       "<style scoped>\n",
       "    .dataframe tbody tr th:only-of-type {\n",
       "        vertical-align: middle;\n",
       "    }\n",
       "\n",
       "    .dataframe tbody tr th {\n",
       "        vertical-align: top;\n",
       "    }\n",
       "\n",
       "    .dataframe thead th {\n",
       "        text-align: right;\n",
       "    }\n",
       "</style>\n",
       "<table border=\"1\" class=\"dataframe\">\n",
       "  <thead>\n",
       "    <tr style=\"text-align: right;\">\n",
       "      <th></th>\n",
       "      <th>fever</th>\n",
       "      <th>bodyPain</th>\n",
       "      <th>age</th>\n",
       "      <th>runnyNose</th>\n",
       "      <th>diffBreath</th>\n",
       "      <th>infectionProb</th>\n",
       "    </tr>\n",
       "  </thead>\n",
       "  <tbody>\n",
       "    <tr>\n",
       "      <th>count</th>\n",
       "      <td>2575.000000</td>\n",
       "      <td>2575.000000</td>\n",
       "      <td>2575.000000</td>\n",
       "      <td>2575.000000</td>\n",
       "      <td>2575.000000</td>\n",
       "      <td>2575.000000</td>\n",
       "    </tr>\n",
       "    <tr>\n",
       "      <th>mean</th>\n",
       "      <td>100.969709</td>\n",
       "      <td>0.492816</td>\n",
       "      <td>51.023301</td>\n",
       "      <td>0.502136</td>\n",
       "      <td>0.002330</td>\n",
       "      <td>0.493592</td>\n",
       "    </tr>\n",
       "    <tr>\n",
       "      <th>std</th>\n",
       "      <td>1.999771</td>\n",
       "      <td>0.500045</td>\n",
       "      <td>29.014442</td>\n",
       "      <td>0.500093</td>\n",
       "      <td>0.816969</td>\n",
       "      <td>0.500056</td>\n",
       "    </tr>\n",
       "    <tr>\n",
       "      <th>min</th>\n",
       "      <td>98.000000</td>\n",
       "      <td>0.000000</td>\n",
       "      <td>1.000000</td>\n",
       "      <td>0.000000</td>\n",
       "      <td>-1.000000</td>\n",
       "      <td>0.000000</td>\n",
       "    </tr>\n",
       "    <tr>\n",
       "      <th>25%</th>\n",
       "      <td>99.000000</td>\n",
       "      <td>0.000000</td>\n",
       "      <td>26.000000</td>\n",
       "      <td>0.000000</td>\n",
       "      <td>-1.000000</td>\n",
       "      <td>0.000000</td>\n",
       "    </tr>\n",
       "    <tr>\n",
       "      <th>50%</th>\n",
       "      <td>101.000000</td>\n",
       "      <td>0.000000</td>\n",
       "      <td>50.000000</td>\n",
       "      <td>1.000000</td>\n",
       "      <td>0.000000</td>\n",
       "      <td>0.000000</td>\n",
       "    </tr>\n",
       "    <tr>\n",
       "      <th>75%</th>\n",
       "      <td>103.000000</td>\n",
       "      <td>1.000000</td>\n",
       "      <td>76.500000</td>\n",
       "      <td>1.000000</td>\n",
       "      <td>1.000000</td>\n",
       "      <td>1.000000</td>\n",
       "    </tr>\n",
       "    <tr>\n",
       "      <th>max</th>\n",
       "      <td>104.000000</td>\n",
       "      <td>1.000000</td>\n",
       "      <td>100.000000</td>\n",
       "      <td>1.000000</td>\n",
       "      <td>1.000000</td>\n",
       "      <td>1.000000</td>\n",
       "    </tr>\n",
       "  </tbody>\n",
       "</table>\n",
       "</div>"
      ],
      "text/plain": [
       "             fever     bodyPain          age    runnyNose   diffBreath  \\\n",
       "count  2575.000000  2575.000000  2575.000000  2575.000000  2575.000000   \n",
       "mean    100.969709     0.492816    51.023301     0.502136     0.002330   \n",
       "std       1.999771     0.500045    29.014442     0.500093     0.816969   \n",
       "min      98.000000     0.000000     1.000000     0.000000    -1.000000   \n",
       "25%      99.000000     0.000000    26.000000     0.000000    -1.000000   \n",
       "50%     101.000000     0.000000    50.000000     1.000000     0.000000   \n",
       "75%     103.000000     1.000000    76.500000     1.000000     1.000000   \n",
       "max     104.000000     1.000000   100.000000     1.000000     1.000000   \n",
       "\n",
       "       infectionProb  \n",
       "count    2575.000000  \n",
       "mean        0.493592  \n",
       "std         0.500056  \n",
       "min         0.000000  \n",
       "25%         0.000000  \n",
       "50%         0.000000  \n",
       "75%         1.000000  \n",
       "max         1.000000  "
      ]
     },
     "execution_count": 3,
     "metadata": {},
     "output_type": "execute_result"
    }
   ],
   "source": [
    "df.describe()"
   ]
  },
  {
   "cell_type": "code",
   "execution_count": 4,
   "id": "3dc30315",
   "metadata": {},
   "outputs": [
    {
     "data": {
      "text/html": [
       "<div>\n",
       "<style scoped>\n",
       "    .dataframe tbody tr th:only-of-type {\n",
       "        vertical-align: middle;\n",
       "    }\n",
       "\n",
       "    .dataframe tbody tr th {\n",
       "        vertical-align: top;\n",
       "    }\n",
       "\n",
       "    .dataframe thead th {\n",
       "        text-align: right;\n",
       "    }\n",
       "</style>\n",
       "<table border=\"1\" class=\"dataframe\">\n",
       "  <thead>\n",
       "    <tr style=\"text-align: right;\">\n",
       "      <th></th>\n",
       "      <th>fever</th>\n",
       "      <th>bodyPain</th>\n",
       "      <th>age</th>\n",
       "      <th>runnyNose</th>\n",
       "      <th>diffBreath</th>\n",
       "      <th>infectionProb</th>\n",
       "    </tr>\n",
       "  </thead>\n",
       "  <tbody>\n",
       "    <tr>\n",
       "      <th>0</th>\n",
       "      <td>False</td>\n",
       "      <td>False</td>\n",
       "      <td>False</td>\n",
       "      <td>False</td>\n",
       "      <td>False</td>\n",
       "      <td>False</td>\n",
       "    </tr>\n",
       "    <tr>\n",
       "      <th>1</th>\n",
       "      <td>False</td>\n",
       "      <td>False</td>\n",
       "      <td>False</td>\n",
       "      <td>False</td>\n",
       "      <td>False</td>\n",
       "      <td>False</td>\n",
       "    </tr>\n",
       "    <tr>\n",
       "      <th>2</th>\n",
       "      <td>False</td>\n",
       "      <td>False</td>\n",
       "      <td>False</td>\n",
       "      <td>False</td>\n",
       "      <td>False</td>\n",
       "      <td>False</td>\n",
       "    </tr>\n",
       "    <tr>\n",
       "      <th>3</th>\n",
       "      <td>False</td>\n",
       "      <td>False</td>\n",
       "      <td>False</td>\n",
       "      <td>False</td>\n",
       "      <td>False</td>\n",
       "      <td>False</td>\n",
       "    </tr>\n",
       "    <tr>\n",
       "      <th>4</th>\n",
       "      <td>False</td>\n",
       "      <td>False</td>\n",
       "      <td>False</td>\n",
       "      <td>False</td>\n",
       "      <td>False</td>\n",
       "      <td>False</td>\n",
       "    </tr>\n",
       "    <tr>\n",
       "      <th>...</th>\n",
       "      <td>...</td>\n",
       "      <td>...</td>\n",
       "      <td>...</td>\n",
       "      <td>...</td>\n",
       "      <td>...</td>\n",
       "      <td>...</td>\n",
       "    </tr>\n",
       "    <tr>\n",
       "      <th>2570</th>\n",
       "      <td>False</td>\n",
       "      <td>False</td>\n",
       "      <td>False</td>\n",
       "      <td>False</td>\n",
       "      <td>False</td>\n",
       "      <td>False</td>\n",
       "    </tr>\n",
       "    <tr>\n",
       "      <th>2571</th>\n",
       "      <td>False</td>\n",
       "      <td>False</td>\n",
       "      <td>False</td>\n",
       "      <td>False</td>\n",
       "      <td>False</td>\n",
       "      <td>False</td>\n",
       "    </tr>\n",
       "    <tr>\n",
       "      <th>2572</th>\n",
       "      <td>False</td>\n",
       "      <td>False</td>\n",
       "      <td>False</td>\n",
       "      <td>False</td>\n",
       "      <td>False</td>\n",
       "      <td>False</td>\n",
       "    </tr>\n",
       "    <tr>\n",
       "      <th>2573</th>\n",
       "      <td>False</td>\n",
       "      <td>False</td>\n",
       "      <td>False</td>\n",
       "      <td>False</td>\n",
       "      <td>False</td>\n",
       "      <td>False</td>\n",
       "    </tr>\n",
       "    <tr>\n",
       "      <th>2574</th>\n",
       "      <td>False</td>\n",
       "      <td>False</td>\n",
       "      <td>False</td>\n",
       "      <td>False</td>\n",
       "      <td>False</td>\n",
       "      <td>False</td>\n",
       "    </tr>\n",
       "  </tbody>\n",
       "</table>\n",
       "<p>2575 rows × 6 columns</p>\n",
       "</div>"
      ],
      "text/plain": [
       "      fever  bodyPain    age  runnyNose  diffBreath  infectionProb\n",
       "0     False     False  False      False       False          False\n",
       "1     False     False  False      False       False          False\n",
       "2     False     False  False      False       False          False\n",
       "3     False     False  False      False       False          False\n",
       "4     False     False  False      False       False          False\n",
       "...     ...       ...    ...        ...         ...            ...\n",
       "2570  False     False  False      False       False          False\n",
       "2571  False     False  False      False       False          False\n",
       "2572  False     False  False      False       False          False\n",
       "2573  False     False  False      False       False          False\n",
       "2574  False     False  False      False       False          False\n",
       "\n",
       "[2575 rows x 6 columns]"
      ]
     },
     "execution_count": 4,
     "metadata": {},
     "output_type": "execute_result"
    }
   ],
   "source": [
    "df.isnull()"
   ]
  },
  {
   "cell_type": "code",
   "execution_count": 5,
   "id": "5ce08d03",
   "metadata": {},
   "outputs": [
    {
     "data": {
      "text/plain": [
       "fever            0\n",
       "bodyPain         0\n",
       "age              0\n",
       "runnyNose        0\n",
       "diffBreath       0\n",
       "infectionProb    0\n",
       "dtype: int64"
      ]
     },
     "execution_count": 5,
     "metadata": {},
     "output_type": "execute_result"
    }
   ],
   "source": [
    "df.isnull().sum()"
   ]
  },
  {
   "cell_type": "code",
   "execution_count": 6,
   "id": "58cdf91e",
   "metadata": {},
   "outputs": [],
   "source": [
    "df['fever'] = (df['fever']-32)*5/9"
   ]
  },
  {
   "cell_type": "markdown",
   "id": "4a4773db",
   "metadata": {},
   "source": [
    "### °F -> °C"
   ]
  },
  {
   "cell_type": "code",
   "execution_count": 7,
   "id": "8ef20e47",
   "metadata": {},
   "outputs": [
    {
     "data": {
      "text/html": [
       "<div>\n",
       "<style scoped>\n",
       "    .dataframe tbody tr th:only-of-type {\n",
       "        vertical-align: middle;\n",
       "    }\n",
       "\n",
       "    .dataframe tbody tr th {\n",
       "        vertical-align: top;\n",
       "    }\n",
       "\n",
       "    .dataframe thead th {\n",
       "        text-align: right;\n",
       "    }\n",
       "</style>\n",
       "<table border=\"1\" class=\"dataframe\">\n",
       "  <thead>\n",
       "    <tr style=\"text-align: right;\">\n",
       "      <th></th>\n",
       "      <th>fever</th>\n",
       "      <th>bodyPain</th>\n",
       "      <th>age</th>\n",
       "      <th>runnyNose</th>\n",
       "      <th>diffBreath</th>\n",
       "      <th>infectionProb</th>\n",
       "    </tr>\n",
       "  </thead>\n",
       "  <tbody>\n",
       "    <tr>\n",
       "      <th>count</th>\n",
       "      <td>2575.000000</td>\n",
       "      <td>2575.000000</td>\n",
       "      <td>2575.000000</td>\n",
       "      <td>2575.000000</td>\n",
       "      <td>2575.000000</td>\n",
       "      <td>2575.000000</td>\n",
       "    </tr>\n",
       "    <tr>\n",
       "      <th>mean</th>\n",
       "      <td>38.316505</td>\n",
       "      <td>0.492816</td>\n",
       "      <td>51.023301</td>\n",
       "      <td>0.502136</td>\n",
       "      <td>0.002330</td>\n",
       "      <td>0.493592</td>\n",
       "    </tr>\n",
       "    <tr>\n",
       "      <th>std</th>\n",
       "      <td>1.110984</td>\n",
       "      <td>0.500045</td>\n",
       "      <td>29.014442</td>\n",
       "      <td>0.500093</td>\n",
       "      <td>0.816969</td>\n",
       "      <td>0.500056</td>\n",
       "    </tr>\n",
       "    <tr>\n",
       "      <th>min</th>\n",
       "      <td>36.666667</td>\n",
       "      <td>0.000000</td>\n",
       "      <td>1.000000</td>\n",
       "      <td>0.000000</td>\n",
       "      <td>-1.000000</td>\n",
       "      <td>0.000000</td>\n",
       "    </tr>\n",
       "    <tr>\n",
       "      <th>25%</th>\n",
       "      <td>37.222222</td>\n",
       "      <td>0.000000</td>\n",
       "      <td>26.000000</td>\n",
       "      <td>0.000000</td>\n",
       "      <td>-1.000000</td>\n",
       "      <td>0.000000</td>\n",
       "    </tr>\n",
       "    <tr>\n",
       "      <th>50%</th>\n",
       "      <td>38.333333</td>\n",
       "      <td>0.000000</td>\n",
       "      <td>50.000000</td>\n",
       "      <td>1.000000</td>\n",
       "      <td>0.000000</td>\n",
       "      <td>0.000000</td>\n",
       "    </tr>\n",
       "    <tr>\n",
       "      <th>75%</th>\n",
       "      <td>39.444444</td>\n",
       "      <td>1.000000</td>\n",
       "      <td>76.500000</td>\n",
       "      <td>1.000000</td>\n",
       "      <td>1.000000</td>\n",
       "      <td>1.000000</td>\n",
       "    </tr>\n",
       "    <tr>\n",
       "      <th>max</th>\n",
       "      <td>40.000000</td>\n",
       "      <td>1.000000</td>\n",
       "      <td>100.000000</td>\n",
       "      <td>1.000000</td>\n",
       "      <td>1.000000</td>\n",
       "      <td>1.000000</td>\n",
       "    </tr>\n",
       "  </tbody>\n",
       "</table>\n",
       "</div>"
      ],
      "text/plain": [
       "             fever     bodyPain          age    runnyNose   diffBreath  \\\n",
       "count  2575.000000  2575.000000  2575.000000  2575.000000  2575.000000   \n",
       "mean     38.316505     0.492816    51.023301     0.502136     0.002330   \n",
       "std       1.110984     0.500045    29.014442     0.500093     0.816969   \n",
       "min      36.666667     0.000000     1.000000     0.000000    -1.000000   \n",
       "25%      37.222222     0.000000    26.000000     0.000000    -1.000000   \n",
       "50%      38.333333     0.000000    50.000000     1.000000     0.000000   \n",
       "75%      39.444444     1.000000    76.500000     1.000000     1.000000   \n",
       "max      40.000000     1.000000   100.000000     1.000000     1.000000   \n",
       "\n",
       "       infectionProb  \n",
       "count    2575.000000  \n",
       "mean        0.493592  \n",
       "std         0.500056  \n",
       "min         0.000000  \n",
       "25%         0.000000  \n",
       "50%         0.000000  \n",
       "75%         1.000000  \n",
       "max         1.000000  "
      ]
     },
     "execution_count": 7,
     "metadata": {},
     "output_type": "execute_result"
    }
   ],
   "source": [
    "df.describe()"
   ]
  },
  {
   "cell_type": "code",
   "execution_count": 8,
   "id": "48e69c1c",
   "metadata": {},
   "outputs": [
    {
     "data": {
      "text/plain": [
       "<bound method PlotAccessor.bar of <pandas.plotting._core.PlotAccessor object at 0x000001C1E7307FA0>>"
      ]
     },
     "execution_count": 8,
     "metadata": {},
     "output_type": "execute_result"
    }
   ],
   "source": [
    "df['fever'].plot.bar"
   ]
  },
  {
   "cell_type": "code",
   "execution_count": 9,
   "id": "91266211",
   "metadata": {},
   "outputs": [
    {
     "data": {
      "text/plain": [
       "<seaborn.axisgrid.FacetGrid at 0x1c1e7307e50>"
      ]
     },
     "execution_count": 9,
     "metadata": {},
     "output_type": "execute_result"
    },
    {
     "data": {
      "image/png": "[encoded data removed]",
      "text/plain": [
       "<Figure size 360x360 with 1 Axes>"
      ]
     },
     "metadata": {
      "needs_background": "light"
     },
     "output_type": "display_data"
    }
   ],
   "source": [
    "sns.displot(df, x='fever')"
   ]
  },
  {
   "cell_type": "code",
   "execution_count": 10,
   "id": "517c4e33",
   "metadata": {},
   "outputs": [
    {
     "data": {
      "text/plain": [
       "<seaborn.axisgrid.FacetGrid at 0x1c1ece5ed60>"
      ]
     },
     "execution_count": 10,
     "metadata": {},
     "output_type": "execute_result"
    },
    {
     "data": {
      "image/png": "[encoded data removed]",
      "text/plain": [
       "<Figure size 360x360 with 1 Axes>"
      ]
     },
     "metadata": {
      "needs_background": "light"
     },
     "output_type": "display_data"
    }
   ],
   "source": [
    "sns.displot(df, x='age')"
   ]
  },
  {
   "cell_type": "code",
   "execution_count": 11,
   "id": "14c9188a",
   "metadata": {},
   "outputs": [
    {
     "data": {
      "text/plain": [
       "<seaborn.axisgrid.FacetGrid at 0x1c1ec542a60>"
      ]
     },
     "execution_count": 11,
     "metadata": {},
     "output_type": "execute_result"
    },
    {
     "data": {
      "image/png": "[encoded data removed]",
      "text/plain": [
       "<Figure size 360x360 with 1 Axes>"
      ]
     },
     "metadata": {
      "needs_background": "light"
     },
     "output_type": "display_data"
    }
   ],
   "source": [
    "sns.displot(df, x='diffBreath')"
   ]
  },
  {
   "cell_type": "code",
   "execution_count": 12,
   "id": "e2ef0215",
   "metadata": {},
   "outputs": [
    {
     "data": {
      "text/html": [
       "<div>\n",
       "<style scoped>\n",
       "    .dataframe tbody tr th:only-of-type {\n",
       "        vertical-align: middle;\n",
       "    }\n",
       "\n",
       "    .dataframe tbody tr th {\n",
       "        vertical-align: top;\n",
       "    }\n",
       "\n",
       "    .dataframe thead th {\n",
       "        text-align: right;\n",
       "    }\n",
       "</style>\n",
       "<table border=\"1\" class=\"dataframe\">\n",
       "  <thead>\n",
       "    <tr style=\"text-align: right;\">\n",
       "      <th></th>\n",
       "      <th>fever</th>\n",
       "      <th>bodyPain</th>\n",
       "      <th>age</th>\n",
       "      <th>runnyNose</th>\n",
       "      <th>diffBreath</th>\n",
       "      <th>infectionProb</th>\n",
       "    </tr>\n",
       "  </thead>\n",
       "  <tbody>\n",
       "    <tr>\n",
       "      <th>fever</th>\n",
       "      <td>1.000000</td>\n",
       "      <td>-0.013039</td>\n",
       "      <td>-0.021883</td>\n",
       "      <td>0.011719</td>\n",
       "      <td>0.000281</td>\n",
       "      <td>-0.007187</td>\n",
       "    </tr>\n",
       "    <tr>\n",
       "      <th>bodyPain</th>\n",
       "      <td>-0.013039</td>\n",
       "      <td>1.000000</td>\n",
       "      <td>-0.012199</td>\n",
       "      <td>-0.036059</td>\n",
       "      <td>0.005747</td>\n",
       "      <td>-0.031646</td>\n",
       "    </tr>\n",
       "    <tr>\n",
       "      <th>age</th>\n",
       "      <td>-0.021883</td>\n",
       "      <td>-0.012199</td>\n",
       "      <td>1.000000</td>\n",
       "      <td>0.029824</td>\n",
       "      <td>0.006668</td>\n",
       "      <td>-0.035496</td>\n",
       "    </tr>\n",
       "    <tr>\n",
       "      <th>runnyNose</th>\n",
       "      <td>0.011719</td>\n",
       "      <td>-0.036059</td>\n",
       "      <td>0.029824</td>\n",
       "      <td>1.000000</td>\n",
       "      <td>0.047533</td>\n",
       "      <td>-0.017423</td>\n",
       "    </tr>\n",
       "    <tr>\n",
       "      <th>diffBreath</th>\n",
       "      <td>0.000281</td>\n",
       "      <td>0.005747</td>\n",
       "      <td>0.006668</td>\n",
       "      <td>0.047533</td>\n",
       "      <td>1.000000</td>\n",
       "      <td>-0.027542</td>\n",
       "    </tr>\n",
       "    <tr>\n",
       "      <th>infectionProb</th>\n",
       "      <td>-0.007187</td>\n",
       "      <td>-0.031646</td>\n",
       "      <td>-0.035496</td>\n",
       "      <td>-0.017423</td>\n",
       "      <td>-0.027542</td>\n",
       "      <td>1.000000</td>\n",
       "    </tr>\n",
       "  </tbody>\n",
       "</table>\n",
       "</div>"
      ],
      "text/plain": [
       "                  fever  bodyPain       age  runnyNose  diffBreath  \\\n",
       "fever          1.000000 -0.013039 -0.021883   0.011719    0.000281   \n",
       "bodyPain      -0.013039  1.000000 -0.012199  -0.036059    0.005747   \n",
       "age           -0.021883 -0.012199  1.000000   0.029824    0.006668   \n",
       "runnyNose      0.011719 -0.036059  0.029824   1.000000    0.047533   \n",
       "diffBreath     0.000281  0.005747  0.006668   0.047533    1.000000   \n",
       "infectionProb -0.007187 -0.031646 -0.035496  -0.017423   -0.027542   \n",
       "\n",
       "               infectionProb  \n",
       "fever              -0.007187  \n",
       "bodyPain           -0.031646  \n",
       "age                -0.035496  \n",
       "runnyNose          -0.017423  \n",
       "diffBreath         -0.027542  \n",
       "infectionProb       1.000000  "
      ]
     },
     "execution_count": 12,
     "metadata": {},
     "output_type": "execute_result"
    }
   ],
   "source": [
    "df.corr()"
   ]
  },
  {
   "cell_type": "markdown",
   "id": "9fe8d8f1",
   "metadata": {},
   "source": [
    "**Pearson coeficient is almost 0 for different variables, which is great! - NO linear correlation**"
   ]
  },
  {
   "cell_type": "markdown",
   "id": "0003e181",
   "metadata": {},
   "source": [
    "## VIF"
   ]
  },
  {
   "cell_type": "code",
   "execution_count": 14,
   "id": "b60c69b7",
   "metadata": {
    "scrolled": true
   },
   "outputs": [
    {
     "data": {
      "text/html": [
       "<div>\n",
       "<style scoped>\n",
       "    .dataframe tbody tr th:only-of-type {\n",
       "        vertical-align: middle;\n",
       "    }\n",
       "\n",
       "    .dataframe tbody tr th {\n",
       "        vertical-align: top;\n",
       "    }\n",
       "\n",
       "    .dataframe thead th {\n",
       "        text-align: right;\n",
       "    }\n",
       "</style>\n",
       "<table border=\"1\" class=\"dataframe\">\n",
       "  <thead>\n",
       "    <tr style=\"text-align: right;\">\n",
       "      <th></th>\n",
       "      <th>VIF</th>\n",
       "      <th>variable</th>\n",
       "    </tr>\n",
       "  </thead>\n",
       "  <tbody>\n",
       "    <tr>\n",
       "      <th>0</th>\n",
       "      <td>1199.751425</td>\n",
       "      <td>Intercept</td>\n",
       "    </tr>\n",
       "    <tr>\n",
       "      <th>1</th>\n",
       "      <td>1.000798</td>\n",
       "      <td>fever</td>\n",
       "    </tr>\n",
       "    <tr>\n",
       "      <th>2</th>\n",
       "      <td>1.001649</td>\n",
       "      <td>bodyPain</td>\n",
       "    </tr>\n",
       "    <tr>\n",
       "      <th>3</th>\n",
       "      <td>1.001545</td>\n",
       "      <td>age</td>\n",
       "    </tr>\n",
       "    <tr>\n",
       "      <th>4</th>\n",
       "      <td>1.004586</td>\n",
       "      <td>runnyNose</td>\n",
       "    </tr>\n",
       "    <tr>\n",
       "      <th>5</th>\n",
       "      <td>1.002349</td>\n",
       "      <td>diffBreath</td>\n",
       "    </tr>\n",
       "  </tbody>\n",
       "</table>\n",
       "</div>"
      ],
      "text/plain": [
       "           VIF    variable\n",
       "0  1199.751425   Intercept\n",
       "1     1.000798       fever\n",
       "2     1.001649    bodyPain\n",
       "3     1.001545         age\n",
       "4     1.004586   runnyNose\n",
       "5     1.002349  diffBreath"
      ]
     },
     "execution_count": 14,
     "metadata": {},
     "output_type": "execute_result"
    }
   ],
   "source": [
    "#find design matrix for linear regression model using 'infectionProb' as response variable \n",
    "y, X = dmatrices('infectionProb ~ fever+bodyPain+age+runnyNose+diffBreath', data=df, return_type='dataframe')\n",
    "\n",
    "#calculate VIF for each explanatory variable\n",
    "vif = pd.DataFrame()\n",
    "vif['VIF'] = [variance_inflation_factor(X.values, i) for i in range(X.shape[1])]\n",
    "vif['variable'] = X.columns\n",
    "\n",
    "#view VIF for each explanatory variable \n",
    "vif\n"
   ]
  },
  {
   "cell_type": "markdown",
   "id": "354eefea",
   "metadata": {},
   "source": [
    "**Multicollinearity does not exist**"
   ]
  },
  {
   "cell_type": "code",
   "execution_count": 15,
   "id": "3e993ef9",
   "metadata": {},
   "outputs": [
    {
     "data": {
      "text/plain": [
       "<seaborn.axisgrid.PairGrid at 0x1c1ed374490>"
      ]
     },
     "execution_count": 15,
     "metadata": {},
     "output_type": "execute_result"
    },
    {
     "data": {
      "image/png": "[encoded data removed]",
      "text/plain": [
       "<Figure size 1080x1080 with 42 Axes>"
      ]
     },
     "metadata": {
      "needs_background": "light"
     },
     "output_type": "display_data"
    }
   ],
   "source": [
    "sns.pairplot(df)"
   ]
  }
 ],
 "metadata": {
  "kernelspec": {
   "display_name": "Python 3 (ipykernel)",
   "language": "python",
   "name": "python3"
  },
  "language_info": {
   "codemirror_mode": {
    "name": "ipython",
    "version": 3
   },
   "file_extension": ".py",
   "mimetype": "text/x-python",
   "name": "python",
   "nbconvert_exporter": "python",
   "pygments_lexer": "ipython3",
   "version": "3.9.7"
  }
 },
 "nbformat": 4,
 "nbformat_minor": 5
}
