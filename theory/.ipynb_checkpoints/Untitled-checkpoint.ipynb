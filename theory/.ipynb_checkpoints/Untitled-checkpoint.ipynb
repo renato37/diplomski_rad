{
 "cells": [
  {
   "cell_type": "code",
   "execution_count": 1,
   "id": "53d80762",
   "metadata": {},
   "outputs": [],
   "source": [
    "import pickle\n"
   ]
  },
  {
   "cell_type": "markdown",
   "id": "28223bcb",
   "metadata": {},
   "source": [
    "- Use regular machine learning like LogisticRegression and SVM\n",
    "- Save with pickle\n",
    "- Visualize\n",
    "- Reuse"
   ]
  },
  {
   "cell_type": "code",
   "execution_count": null,
   "id": "c4dc4e53",
   "metadata": {},
   "outputs": [],
   "source": []
  }
 ],
 "metadata": {
  "kernelspec": {
   "display_name": "Python 3 (ipykernel)",
   "language": "python",
   "name": "python3"
  },
  "language_info": {
   "codemirror_mode": {
    "name": "ipython",
    "version": 3
   },
   "file_extension": ".py",
   "mimetype": "text/x-python",
   "name": "python",
   "nbconvert_exporter": "python",
   "pygments_lexer": "ipython3",
   "version": "3.9.12"
  }
 },
 "nbformat": 4,
 "nbformat_minor": 5
}
