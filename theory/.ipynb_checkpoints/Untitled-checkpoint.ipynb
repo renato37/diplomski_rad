{
 "cells": [
  {
   "cell_type": "markdown",
   "id": "5eaf6cc3",
   "metadata": {},
   "source": [
    "# Theory"
   ]
  },
  {
   "cell_type": "markdown",
   "id": "43075fd8",
   "metadata": {},
   "source": [
    "## VIF\n",
    "\n",
    "https://www.investopedia.com/terms/v/variance-inflation-factor.asp\n",
    "\n",
    "A variance inflation factor (VIF) is a measure of the amount of multicollinearity in regression analysis. Multicollinearity exists when there is a correlation between multiple independent variables in a multiple regression model. This can adversely affect the regression results. Thus, the variance inflation factor can estimate how much the variance of a regression coefficient is inflated due to multicollinearity."
   ]
  },
  {
   "cell_type": "markdown",
   "id": "750f5c2d",
   "metadata": {},
   "source": [
    "- VIF equal to 1 = variables are not correlated\n",
    "- VIF between 1 and 5 = variables are moderately correlated \n",
    "- VIF greater than 5 = variables are highly correlated"
   ]
  },
  {
   "cell_type": "code",
   "execution_count": null,
   "id": "beb82167",
   "metadata": {},
   "outputs": [],
   "source": []
  }
 ],
 "metadata": {
  "kernelspec": {
   "display_name": "Python 3 (ipykernel)",
   "language": "python",
   "name": "python3"
  },
  "language_info": {
   "codemirror_mode": {
    "name": "ipython",
    "version": 3
   },
   "file_extension": ".py",
   "mimetype": "text/x-python",
   "name": "python",
   "nbconvert_exporter": "python",
   "pygments_lexer": "ipython3",
   "version": "3.9.12"
  }
 },
 "nbformat": 4,
 "nbformat_minor": 5
}
