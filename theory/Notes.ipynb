{
 "cells": [
  {
   "cell_type": "markdown",
   "id": "5eaf6cc3",
   "metadata": {},
   "source": [
    "# Theory"
   ]
  },
  {
   "cell_type": "markdown",
   "id": "43075fd8",
   "metadata": {},
   "source": [
    "## VIF\n",
    "\n",
    "https://www.investopedia.com/terms/v/variance-inflation-factor.asp\n",
    "\n",
    "A variance inflation factor (VIF) is a measure of the amount of multicollinearity in regression analysis. Multicollinearity exists when there is a correlation between multiple independent variables in a multiple regression model. This can adversely affect the regression results. Thus, the variance inflation factor can estimate how much the variance of a regression coefficient is inflated due to multicollinearity."
   ]
  },
  {
   "cell_type": "markdown",
   "id": "750f5c2d",
   "metadata": {},
   "source": [
    "- VIF equal to 1 = variables are not correlated\n",
    "- VIF between 1 and 5 = variables are moderately correlated \n",
    "- VIF greater than 5 = variables are highly correlated"
   ]
  },
  {
   "cell_type": "markdown",
   "id": "62381b13",
   "metadata": {},
   "source": [
    "https://neptune.ai/blog/exploratory-data-anmalysis-for-tabular-data"
   ]
  },
  {
   "cell_type": "markdown",
   "id": "4a30b9e2",
   "metadata": {},
   "source": [
    "https://www.knowledgehut.com/blog/data-science/eda-data-science"
   ]
  },
  {
   "cell_type": "markdown",
   "id": "65ead99b",
   "metadata": {},
   "source": [
    "Python tensorflow neural network:\n",
    "https://towardsdatascience.com/deep-learning-with-python-neural-networks-complete-tutorial-6b53c0b06af0\n",
    "\n",
    "Python EDA:\n",
    "https://medium.com/epfl-extension-school/advanced-exploratory-data-analysis-eda-with-python-536fa83c578a\n",
    "\n",
    "Image recognition:\n",
    "https://medium.com/towards-data-science/is-google-tensorflow-object-detection-api-the-easiest-way-to-implement-image-recognition-a8bd1f500ea0"
   ]
  },
  {
   "cell_type": "markdown",
   "id": "67a4d1e6",
   "metadata": {},
   "source": [
    "Tensorflow: https://towardsdatascience.com/why-rectified-linear-unit-relu-in-deep-learning-and-the-best-practice-to-use-it-with-tensorflow-e9880933b7ef"
   ]
  }
 ],
 "metadata": {
  "kernelspec": {
   "display_name": "Python 3 (ipykernel)",
   "language": "python",
   "name": "python3"
  },
  "language_info": {
   "codemirror_mode": {
    "name": "ipython",
    "version": 3
   },
   "file_extension": ".py",
   "mimetype": "text/x-python",
   "name": "python",
   "nbconvert_exporter": "python",
   "pygments_lexer": "ipython3",
   "version": "3.9.7"
  }
 },
 "nbformat": 4,
 "nbformat_minor": 5
}
